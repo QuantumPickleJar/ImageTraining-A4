{
 "cells": [
  {
   "attachments": {},
   "cell_type": "markdown",
   "metadata": {
    "id": "NUq5afJUk2GI"
   },
   "source": [
    "# Training a Multilayer Neural Network for Image Classification"
   ]
  },
  {
   "attachments": {},
   "cell_type": "markdown",
   "metadata": {
    "id": "f_I8OzI44AZq"
   },
   "source": [
    "First, let's import the necessary packages"
   ]
  },
  {
   "cell_type": "code",
   "execution_count": 1,
   "metadata": {
    "id": "0dD9mzks9jA-"
   },
   "outputs": [],
   "source": [
    "import sys, os\n",
    "import sklearn\n",
    "import numpy as np\n",
    "import pandas as pd\n",
    "import matplotlib as mpl\n",
    "import matplotlib.pyplot as plt\n",
    "import tensorflow as tf\n",
    "from tensorflow import keras"
   ]
  },
  {
   "cell_type": "code",
   "execution_count": 2,
   "metadata": {
    "id": "OxxSrgpX-i2w"
   },
   "outputs": [],
   "source": [
    "# Ignore useless warnings \n",
    "import warnings\n",
    "warnings.filterwarnings(action=\"ignore\", message=\"^internal gelsd\")"
   ]
  },
  {
   "attachments": {},
   "cell_type": "markdown",
   "metadata": {
    "id": "uoNZl4FKci-A"
   },
   "source": [
    "The MNIST dataset is a set of images of handwritten digits 0-9, with the associated target classes also numbered as 0-9. "
   ]
  },
  {
   "cell_type": "code",
   "execution_count": 3,
   "metadata": {
    "colab": {
     "base_uri": "https://localhost:8080/"
    },
    "id": "U_n5ZE6K-NbR",
    "outputId": "9b3bf1a5-a500-4af8-a97f-66c14aae2f3f"
   },
   "outputs": [],
   "source": [
    "digits_mnist = keras.datasets.mnist.load_data()\n",
    "(X_train_full, y_train_full), (X_test, y_test) = keras.datasets.mnist.load_data()"
   ]
  },
  {
   "attachments": {},
   "cell_type": "markdown",
   "metadata": {
    "id": "ZnkyvtoHf2qD"
   },
   "source": [
    "Let's look at the shape and data of the training set"
   ]
  },
  {
   "cell_type": "code",
   "execution_count": 4,
   "metadata": {
    "colab": {
     "base_uri": "https://localhost:8080/"
    },
    "id": "UEj2Z1zw-Q5I",
    "outputId": "5f17b418-4a16-411c-9bed-5e85c2527f0e"
   },
   "outputs": [
    {
     "data": {
      "text/plain": [
       "(60000, 28, 28)"
      ]
     },
     "execution_count": 4,
     "metadata": {},
     "output_type": "execute_result"
    }
   ],
   "source": [
    "X_train_full.shape"
   ]
  },
  {
   "cell_type": "code",
   "execution_count": 5,
   "metadata": {
    "colab": {
     "base_uri": "https://localhost:8080/"
    },
    "id": "2AEQIVoR-X-4",
    "outputId": "6324f437-86cf-4f92-c200-581d9fb6bd2e"
   },
   "outputs": [
    {
     "data": {
      "text/plain": [
       "dtype('uint8')"
      ]
     },
     "execution_count": 5,
     "metadata": {},
     "output_type": "execute_result"
    }
   ],
   "source": [
    "X_train_full.dtype"
   ]
  },
  {
   "attachments": {},
   "cell_type": "markdown",
   "metadata": {
    "id": "K6I2mcj6f_OL"
   },
   "source": [
    "Instead of eventually doing cross validation on the training set, let's further break the training set into a training set and a validation set, as this is more reliable, if we have the data to do it. Let's also scale the intensities of each pixel to be in the range 0-1.\n"
   ]
  },
  {
   "cell_type": "code",
   "execution_count": 6,
   "metadata": {
    "id": "tCSxASxj-fCI"
   },
   "outputs": [],
   "source": [
    "X_valid, X_train = X_train_full[:5000] / 255., X_train_full[5000:] / 255.\n",
    "y_valid, y_train = y_train_full[:5000], y_train_full[5000:]\n",
    "X_test = X_test / 255."
   ]
  },
  {
   "attachments": {},
   "cell_type": "markdown",
   "metadata": {
    "id": "X92KwddDgk40"
   },
   "source": [
    "Let's look at the first image in the training set:"
   ]
  },
  {
   "cell_type": "code",
   "execution_count": 7,
   "metadata": {
    "colab": {
     "base_uri": "https://localhost:8080/",
     "height": 248
    },
    "id": "zmpTm1f7-gXY",
    "outputId": "5fcbef31-3cc2-4a27-a48a-68fbd04eda62"
   },
   "outputs": [
    {
     "data": {
      "image/png": "[encoded data removed]",
      "text/plain": [
       "<Figure size 640x480 with 1 Axes>"
      ]
     },
     "metadata": {},
     "output_type": "display_data"
    }
   ],
   "source": [
    "plt.imshow(X_train[0], cmap=\"binary\")\n",
    "plt.axis('off')\n",
    "plt.show()"
   ]
  },
  {
   "attachments": {},
   "cell_type": "markdown",
   "metadata": {
    "id": "F9ovK_9nguBk"
   },
   "source": [
    "The labels are numbers that correspond to the class names"
   ]
  },
  {
   "cell_type": "code",
   "execution_count": 8,
   "metadata": {
    "colab": {
     "base_uri": "https://localhost:8080/"
    },
    "id": "koEZXYce_pUy",
    "outputId": "2e7b810c-69ed-446d-df90-f75e148e6b34"
   },
   "outputs": [
    {
     "data": {
      "text/plain": [
       "array([7, 3, 4, ..., 5, 6, 8], dtype=uint8)"
      ]
     },
     "execution_count": 8,
     "metadata": {},
     "output_type": "execute_result"
    }
   ],
   "source": [
    "y_train"
   ]
  },
  {
   "attachments": {},
   "cell_type": "markdown",
   "metadata": {
    "id": "Vg4PRQMP_qz4"
   },
   "source": [
    "Here are the corresponding class names:"
   ]
  },
  {
   "cell_type": "code",
   "execution_count": 9,
   "metadata": {
    "colab": {
     "base_uri": "https://localhost:8080/",
     "height": 38
    },
    "id": "LY0Nl_fK_w_J",
    "outputId": "6f167a8f-61f4-48c2-c60d-ebf1235e8d52"
   },
   "outputs": [
    {
     "data": {
      "text/plain": [
       "'7'"
      ]
     },
     "execution_count": 9,
     "metadata": {},
     "output_type": "execute_result"
    }
   ],
   "source": [
    "class_names = [\"0\",\"1\",\"2\",\"3\",\"4\",\"5\",\"6\",\"7\",\"8\",\"9\"]\n",
    "class_names[y_train[0]]"
   ]
  },
  {
   "attachments": {},
   "cell_type": "markdown",
   "metadata": {
    "id": "uMlfQRaKg8iP"
   },
   "source": [
    "Let's look at the sizes for our train, validation and test sets:"
   ]
  },
  {
   "cell_type": "code",
   "execution_count": 10,
   "metadata": {
    "colab": {
     "base_uri": "https://localhost:8080/"
    },
    "id": "kvigI7nYK66z",
    "outputId": "74807ade-f8b6-4798-e5af-4e0aa39d9e6f"
   },
   "outputs": [
    {
     "data": {
      "text/plain": [
       "(55000, 28, 28)"
      ]
     },
     "execution_count": 10,
     "metadata": {},
     "output_type": "execute_result"
    }
   ],
   "source": [
    "X_train.shape"
   ]
  },
  {
   "cell_type": "code",
   "execution_count": 11,
   "metadata": {
    "colab": {
     "base_uri": "https://localhost:8080/"
    },
    "id": "rFmQxWqYAAwV",
    "outputId": "01d363d3-d231-4818-8f3d-705bf5634c31"
   },
   "outputs": [
    {
     "data": {
      "text/plain": [
       "(5000, 28, 28)"
      ]
     },
     "execution_count": 11,
     "metadata": {},
     "output_type": "execute_result"
    }
   ],
   "source": [
    "X_valid.shape"
   ]
  },
  {
   "cell_type": "code",
   "execution_count": 12,
   "metadata": {
    "colab": {
     "base_uri": "https://localhost:8080/"
    },
    "id": "kpYKx8lqAD6A",
    "outputId": "09623392-b382-4685-c9dc-3438a329865b"
   },
   "outputs": [
    {
     "data": {
      "text/plain": [
       "(10000, 28, 28)"
      ]
     },
     "execution_count": 12,
     "metadata": {},
     "output_type": "execute_result"
    }
   ],
   "source": [
    "X_test.shape"
   ]
  },
  {
   "attachments": {},
   "cell_type": "markdown",
   "metadata": {
    "id": "faHdyHBuhTup"
   },
   "source": [
    "Let's take a look at a sample of the images in the dataset:"
   ]
  },
  {
   "cell_type": "code",
   "execution_count": 13,
   "metadata": {
    "colab": {
     "base_uri": "https://localhost:8080/",
     "height": 308
    },
    "id": "OO_sa872ALwo",
    "outputId": "950e7996-07b7-43b5-bf33-dcc43eb52963"
   },
   "outputs": [
    {
     "data": {
      "image/png": "[encoded data removed]",
      "text/plain": [
       "<Figure size 1200x480 with 40 Axes>"
      ]
     },
     "metadata": {},
     "output_type": "display_data"
    }
   ],
   "source": [
    "n_rows = 4\n",
    "n_cols = 10\n",
    "plt.figure(figsize=(n_cols * 1.2, n_rows * 1.2))\n",
    "for row in range(n_rows):\n",
    "    for col in range(n_cols):\n",
    "        index = n_cols * row + col\n",
    "        plt.subplot(n_rows, n_cols, index + 1)\n",
    "        plt.imshow(X_train[index], cmap=\"binary\", interpolation=\"nearest\")\n",
    "        plt.axis('off')\n",
    "        plt.title(class_names[y_train[index]], fontsize=12)\n",
    "plt.subplots_adjust(wspace=0.2, hspace=0.5)\n",
    "plt.show()"
   ]
  },
  {
   "attachments": {},
   "cell_type": "markdown",
   "metadata": {
    "id": "zx_zJWonhdZi"
   },
   "source": [
    "Let's build a neural network with <b>five</b> hidden layers. Let's setup our random seeds for reproducibility"
   ]
  },
  {
   "cell_type": "code",
   "execution_count": 14,
   "metadata": {
    "id": "HOw6gN7AAfYI"
   },
   "outputs": [],
   "source": [
    "keras.backend.clear_session()\n",
    "np.random.seed(42)\n",
    "tf.random.set_seed(42)"
   ]
  },
  {
   "attachments": {},
   "cell_type": "markdown",
   "metadata": {
    "id": "_GeIgmi_hyVc"
   },
   "source": [
    "Let's use the simplest sequential model. \n",
    "* We build our input layer that flattens the images into a 1D array.\n",
    "\n",
    "* First, we add a dense hidden layer with 200 neurons; it manages its own weight matrix and bias terms, and uses the ReLU activation function.\n",
    "\n",
    "* Next, we add a second hidden layer with 100 neurons and the ReLU activation function.\n",
    "\n",
    "* Then we add a third hidden layer with 35 neurons and the ReLU activation function.\n",
    "\n",
    "* Finally, we add the output layer with 10 neurons (for the 10 output classes). Since we must choose one of those 10 classes, we use the softmax activation function, rather than the sigmoid activation function. Softmax can handle the multinomial classification problem. \n",
    "\n",
    "\n"
   ]
  },
  {
   "cell_type": "code",
   "execution_count": 16,
   "metadata": {
    "id": "gFdysegXHle2"
   },
   "outputs": [],
   "source": [
    "model = keras.models.Sequential()\n",
    "model.add(keras.layers.Flatten(input_shape=[28, 28]))\n",
    "model.add(keras.layers.Dense(200, activation=\"relu\"))\n",
    "model.add(keras.layers.Dense(60, activation=\"relu\"))\n",
    "model.add(keras.layers.Dense(10, activation=\"softmax\"))"
   ]
  },
  {
   "attachments": {},
   "cell_type": "markdown",
   "metadata": {
    "id": "Y5OMf5bHlU0A"
   },
   "source": [
    "You can look at textual and visual summaries of the model"
   ]
  },
  {
   "cell_type": "code",
   "execution_count": 17,
   "metadata": {
    "colab": {
     "base_uri": "https://localhost:8080/"
    },
    "id": "UYPdZAYjAwKZ",
    "outputId": "fdcb0bd7-afb4-476f-d620-3bd138624222"
   },
   "outputs": [
    {
     "name": "stdout",
     "output_type": "stream",
     "text": [
      "Model: \"sequential\"\n",
      "_________________________________________________________________\n",
      " Layer (type)                Output Shape              Param #   \n",
      "=================================================================\n",
      " flatten (Flatten)           (None, 784)               0         \n",
      "                                                                 \n",
      " dense (Dense)               (None, 200)               157000    \n",
      "                                                                 \n",
      " dense_1 (Dense)             (None, 60)                12060     \n",
      "                                                                 \n",
      " dense_2 (Dense)             (None, 10)                610       \n",
      "                                                                 \n",
      "=================================================================\n",
      "Total params: 169,670\n",
      "Trainable params: 169,670\n",
      "Non-trainable params: 0\n",
      "_________________________________________________________________\n"
     ]
    }
   ],
   "source": [
    "model.summary()"
   ]
  },
  {
   "cell_type": "code",
   "execution_count": 18,
   "metadata": {
    "colab": {
     "base_uri": "https://localhost:8080/",
     "height": 533
    },
    "id": "jCN7M9vDA1c9",
    "outputId": "3d7d7c64-a9b1-470e-ef35-672207542456"
   },
   "outputs": [
    {
     "data": {
      "image/png": "[encoded data removed]",
      "text/plain": [
       "<IPython.core.display.Image object>"
      ]
     },
     "execution_count": 18,
     "metadata": {},
     "output_type": "execute_result"
    }
   ],
   "source": [
    "keras.utils.plot_model(model, \"my_digit_mnist_model.png\",show_shapes=True)"
   ]
  },
  {
   "attachments": {},
   "cell_type": "markdown",
   "metadata": {
    "id": "FEoXBHMClAfF"
   },
   "source": [
    "You can access the model's layers and individual layers as below. "
   ]
  },
  {
   "cell_type": "code",
   "execution_count": 19,
   "metadata": {
    "colab": {
     "base_uri": "https://localhost:8080/"
    },
    "id": "e2roMeHOk-4I",
    "outputId": "a422a0ce-03b2-4101-b357-0b6e0538e73d"
   },
   "outputs": [
    {
     "data": {
      "text/plain": [
       "[<keras.layers.reshaping.flatten.Flatten at 0x1b4edcdc670>,\n",
       " <keras.layers.core.dense.Dense at 0x1b4edcdc9d0>,\n",
       " <keras.layers.core.dense.Dense at 0x1b4edf07f40>,\n",
       " <keras.layers.core.dense.Dense at 0x1b4edce04c0>]"
      ]
     },
     "execution_count": 19,
     "metadata": {},
     "output_type": "execute_result"
    }
   ],
   "source": [
    "model.layers"
   ]
  },
  {
   "attachments": {},
   "cell_type": "markdown",
   "metadata": {},
   "source": [
    "Not of significant importance, but notice how our count of layers is accessible.  It's convenient!"
   ]
  },
  {
   "cell_type": "code",
   "execution_count": 23,
   "metadata": {
    "colab": {
     "base_uri": "https://localhost:8080/",
     "height": 38
    },
    "id": "qkMzIA60A29I",
    "outputId": "3bc0ec2b-4e08-4c9d-ee23-74bb16779a5b"
   },
   "outputs": [
    {
     "data": {
      "text/plain": [
       "<KerasTensor: shape=(None, 200) dtype=float32 (created by layer 'dense')>"
      ]
     },
     "execution_count": 23,
     "metadata": {},
     "output_type": "execute_result"
    }
   ],
   "source": [
    "hidden1 = model.layers[1]\n",
    "hidden1.output"
   ]
  },
  {
   "cell_type": "code",
   "execution_count": 24,
   "metadata": {
    "colab": {
     "base_uri": "https://localhost:8080/"
    },
    "id": "-JFEduhsA862",
    "outputId": "f0b905c1-0c5e-4e76-95a1-739866c88b4f"
   },
   "outputs": [
    {
     "data": {
      "text/plain": [
       "True"
      ]
     },
     "execution_count": 24,
     "metadata": {},
     "output_type": "execute_result"
    }
   ],
   "source": [
    "model.get_layer(hidden1.name) is hidden1"
   ]
  },
  {
   "attachments": {},
   "cell_type": "markdown",
   "metadata": {
    "id": "xoW7tnzNlOZM"
   },
   "source": [
    "You can also seen the parameters for a particular layer"
   ]
  },
  {
   "cell_type": "code",
   "execution_count": 25,
   "metadata": {
    "colab": {
     "base_uri": "https://localhost:8080/"
    },
    "id": "x_9O5EinA-Ho",
    "outputId": "5d51bb87-d513-414a-e256-e5bbde19e369"
   },
   "outputs": [
    {
     "data": {
      "text/plain": [
       "array([[-7.4691333e-02,  3.6368556e-02,  4.6491526e-02, ...,\n",
       "         3.0174851e-06,  3.4343243e-02,  3.4810446e-02],\n",
       "       [-2.4620887e-02, -2.5217146e-02, -9.8017976e-03, ...,\n",
       "        -2.7881049e-02,  6.5736517e-02, -6.2849499e-02],\n",
       "       [-2.1862909e-03, -1.9275095e-02, -3.0663040e-02, ...,\n",
       "         2.6103407e-02,  2.4913125e-02, -7.5973943e-02],\n",
       "       ...,\n",
       "       [-2.4195556e-02,  1.6587436e-02,  6.0460374e-02, ...,\n",
       "        -7.2573982e-02, -3.7020758e-02,  7.5860903e-02],\n",
       "       [ 4.5626581e-02,  5.1279381e-02, -7.8023285e-02, ...,\n",
       "         2.7879126e-02, -2.2290066e-02,  1.9043684e-03],\n",
       "       [ 6.5631643e-02,  6.9564238e-02, -6.0966730e-02, ...,\n",
       "         4.5203723e-02, -1.7924238e-02,  5.8730021e-02]], dtype=float32)"
      ]
     },
     "execution_count": 25,
     "metadata": {},
     "output_type": "execute_result"
    }
   ],
   "source": [
    "weights, biases = hidden1.get_weights()\n",
    "weights"
   ]
  },
  {
   "cell_type": "code",
   "execution_count": 26,
   "metadata": {
    "colab": {
     "base_uri": "https://localhost:8080/"
    },
    "id": "-NtJ-7zDBDdw",
    "outputId": "69bda15c-cd26-44be-e66b-0b381336d428"
   },
   "outputs": [
    {
     "data": {
      "text/plain": [
       "(784, 200)"
      ]
     },
     "execution_count": 26,
     "metadata": {},
     "output_type": "execute_result"
    }
   ],
   "source": [
    "weights.shape"
   ]
  },
  {
   "cell_type": "code",
   "execution_count": 27,
   "metadata": {
    "colab": {
     "base_uri": "https://localhost:8080/"
    },
    "id": "aMEotDHjBGEo",
    "outputId": "5be4fa97-8321-4ecc-cd7d-81edeea0fdd8"
   },
   "outputs": [
    {
     "data": {
      "text/plain": [
       "array([0., 0., 0., 0., 0., 0., 0., 0., 0., 0., 0., 0., 0., 0., 0., 0., 0.,\n",
       "       0., 0., 0., 0., 0., 0., 0., 0., 0., 0., 0., 0., 0., 0., 0., 0., 0.,\n",
       "       0., 0., 0., 0., 0., 0., 0., 0., 0., 0., 0., 0., 0., 0., 0., 0., 0.,\n",
       "       0., 0., 0., 0., 0., 0., 0., 0., 0., 0., 0., 0., 0., 0., 0., 0., 0.,\n",
       "       0., 0., 0., 0., 0., 0., 0., 0., 0., 0., 0., 0., 0., 0., 0., 0., 0.,\n",
       "       0., 0., 0., 0., 0., 0., 0., 0., 0., 0., 0., 0., 0., 0., 0., 0., 0.,\n",
       "       0., 0., 0., 0., 0., 0., 0., 0., 0., 0., 0., 0., 0., 0., 0., 0., 0.,\n",
       "       0., 0., 0., 0., 0., 0., 0., 0., 0., 0., 0., 0., 0., 0., 0., 0., 0.,\n",
       "       0., 0., 0., 0., 0., 0., 0., 0., 0., 0., 0., 0., 0., 0., 0., 0., 0.,\n",
       "       0., 0., 0., 0., 0., 0., 0., 0., 0., 0., 0., 0., 0., 0., 0., 0., 0.,\n",
       "       0., 0., 0., 0., 0., 0., 0., 0., 0., 0., 0., 0., 0., 0., 0., 0., 0.,\n",
       "       0., 0., 0., 0., 0., 0., 0., 0., 0., 0., 0., 0., 0.], dtype=float32)"
      ]
     },
     "execution_count": 27,
     "metadata": {},
     "output_type": "execute_result"
    }
   ],
   "source": [
    "biases"
   ]
  },
  {
   "cell_type": "code",
   "execution_count": 28,
   "metadata": {
    "colab": {
     "base_uri": "https://localhost:8080/"
    },
    "id": "3PsqkiW2BIe4",
    "outputId": "edbcfd3a-c472-4e18-90bf-7ed832eef64b"
   },
   "outputs": [
    {
     "data": {
      "text/plain": [
       "(200,)"
      ]
     },
     "execution_count": 28,
     "metadata": {},
     "output_type": "execute_result"
    }
   ],
   "source": [
    "biases.shape"
   ]
  },
  {
   "attachments": {},
   "cell_type": "markdown",
   "metadata": {
    "id": "I7LLYrdHlmIL"
   },
   "source": [
    "After a model is created, you must call its compile() method to specify the loss function and optimizer to use. You can also optionally specify extra metrics to compute during training and evaluation. For more information, check out the<code>keras</code>documentation: https://keras.io/api/models/\n",
    "<h2>Critical points:</h2>\n",
    "*  We use \"sparse_categorical_crossentropy\" because we have sparse labels.  </br>\n",
    "   That is, for each instance examined, there is a target class index from 0-9.* </br>\n",
    "* We will train the model using simple stochastic gradient descent  with a learning rate of 0.01 and momentum of 0. There are multiple parameters you can specify here.\n",
    "* Since this is a classifier, it's useful to measure the accuracy during training and evaluation<br/>\n",
    "<p><b>*</b> Were we performing <i>binary</i> classification: \n",
    "<ul>\n",
    "    <ol>\n",
    "    <li>\n",
    "        <b>Activation Function:</b> Sigmoid returns 0 or 1, so sigmoid would outperform softmax </li>\n",
    "    <li>\n",
    "        <b>Classification:</b> we'd use a <code>binary_crossentropy</code></li>     \n",
    "    </ol>\n",
    "</ul>\n",
    "</p>"
   ]
  },
  {
   "cell_type": "code",
   "execution_count": 29,
   "metadata": {
    "id": "KLFB3HNhBNpF"
   },
   "outputs": [],
   "source": [
    "model.compile(loss=\"sparse_categorical_crossentropy\",\n",
    "              optimizer=keras.optimizers.SGD(learning_rate=0.01,momentum=0.0),\n",
    "              metrics=[\"accuracy\"])"
   ]
  },
  {
   "attachments": {},
   "cell_type": "markdown",
   "metadata": {
    "id": "LgIupY-WnpKU"
   },
   "source": [
    "To train the model, we simply call the fit function. \n",
    "* We specify the epochs, and we provide our validation set. Since we have this validation set, we will not use cross validation. The training reports a training and validation loss and accuracy.\n",
    "* fit() defaults to a batch_size of 32 This means that 32 sampled instances are used per epoch, and not the full training set. While it is the default value, it's important to note that it's been found that using the full training set can lead to suboptimal model generation. If a larger value is desired, stick to powers of 2."
   ]
  },
  {
   "cell_type": "code",
   "execution_count": 31,
   "metadata": {
    "colab": {
     "base_uri": "https://localhost:8080/"
    },
    "id": "shf0RwCLBUpx",
    "outputId": "64b007b6-e389-4786-fecb-de1a2b9923e8"
   },
   "outputs": [
    {
     "name": "stdout",
     "output_type": "stream",
     "text": [
      "Epoch 1/20\n",
      "1719/1719 [==============================] - 7s 4ms/step - loss: 0.6603 - accuracy: 0.8215 - val_loss: 0.3228 - val_accuracy: 0.9128\n",
      "Epoch 2/20\n",
      "1719/1719 [==============================] - 6s 4ms/step - loss: 0.2991 - accuracy: 0.9146 - val_loss: 0.2522 - val_accuracy: 0.9300\n",
      "Epoch 3/20\n",
      "1719/1719 [==============================] - 9s 5ms/step - loss: 0.2466 - accuracy: 0.9287 - val_loss: 0.2125 - val_accuracy: 0.9420\n",
      "Epoch 4/20\n",
      "1719/1719 [==============================] - 10s 6ms/step - loss: 0.2118 - accuracy: 0.9394 - val_loss: 0.1892 - val_accuracy: 0.9468\n",
      "Epoch 5/20\n",
      "1719/1719 [==============================] - 10s 6ms/step - loss: 0.1856 - accuracy: 0.9470 - val_loss: 0.1667 - val_accuracy: 0.9528\n",
      "Epoch 6/20\n",
      "1719/1719 [==============================] - 8s 5ms/step - loss: 0.1648 - accuracy: 0.9529 - val_loss: 0.1536 - val_accuracy: 0.9566\n",
      "Epoch 7/20\n",
      "1719/1719 [==============================] - 8s 5ms/step - loss: 0.1480 - accuracy: 0.9577 - val_loss: 0.1403 - val_accuracy: 0.9600\n",
      "Epoch 8/20\n",
      "1719/1719 [==============================] - 8s 5ms/step - loss: 0.1341 - accuracy: 0.9617 - val_loss: 0.1359 - val_accuracy: 0.9608\n",
      "Epoch 9/20\n",
      "1719/1719 [==============================] - 9s 5ms/step - loss: 0.1222 - accuracy: 0.9655 - val_loss: 0.1236 - val_accuracy: 0.9630\n",
      "Epoch 10/20\n",
      "1719/1719 [==============================] - 8s 4ms/step - loss: 0.1125 - accuracy: 0.9681 - val_loss: 0.1145 - val_accuracy: 0.9670\n",
      "Epoch 11/20\n",
      "1719/1719 [==============================] - 8s 5ms/step - loss: 0.1034 - accuracy: 0.9708 - val_loss: 0.1103 - val_accuracy: 0.9684\n",
      "Epoch 12/20\n",
      "1719/1719 [==============================] - 8s 4ms/step - loss: 0.0957 - accuracy: 0.9729 - val_loss: 0.1068 - val_accuracy: 0.9706\n",
      "Epoch 13/20\n",
      "1719/1719 [==============================] - 8s 4ms/step - loss: 0.0892 - accuracy: 0.9747 - val_loss: 0.0999 - val_accuracy: 0.9708\n",
      "Epoch 14/20\n",
      "1719/1719 [==============================] - 9s 5ms/step - loss: 0.0827 - accuracy: 0.9771 - val_loss: 0.0975 - val_accuracy: 0.9722\n",
      "Epoch 15/20\n",
      "1719/1719 [==============================] - 9s 5ms/step - loss: 0.0774 - accuracy: 0.9785 - val_loss: 0.0933 - val_accuracy: 0.9730\n",
      "Epoch 16/20\n",
      "1719/1719 [==============================] - 8s 5ms/step - loss: 0.0723 - accuracy: 0.9794 - val_loss: 0.0901 - val_accuracy: 0.9734\n",
      "Epoch 17/20\n",
      "1719/1719 [==============================] - 8s 5ms/step - loss: 0.0678 - accuracy: 0.9811 - val_loss: 0.0887 - val_accuracy: 0.9736\n",
      "Epoch 18/20\n",
      "1719/1719 [==============================] - 8s 4ms/step - loss: 0.0637 - accuracy: 0.9821 - val_loss: 0.0855 - val_accuracy: 0.9758\n",
      "Epoch 19/20\n",
      "1719/1719 [==============================] - 8s 4ms/step - loss: 0.0598 - accuracy: 0.9833 - val_loss: 0.0851 - val_accuracy: 0.9740\n",
      "Epoch 20/20\n",
      "1719/1719 [==============================] - 8s 4ms/step - loss: 0.0566 - accuracy: 0.9847 - val_loss: 0.0860 - val_accuracy: 0.9738\n"
     ]
    }
   ],
   "source": [
    "history = model.fit(X_train, y_train, epochs=20,batch_size=32, \n",
    "                    validation_data=(X_valid, y_valid))"
   ]
  },
  {
   "attachments": {},
   "cell_type": "markdown",
   "metadata": {
    "id": "7ZwyT0OrxIG8"
   },
   "source": [
    "The fit() method returns a history object that contains the training parameters, list of epochs it went through, and a dictionary containing the loss and extra metrics measured at the end of each epoch. "
   ]
  },
  {
   "cell_type": "code",
   "execution_count": 32,
   "metadata": {
    "colab": {
     "base_uri": "https://localhost:8080/"
    },
    "id": "ex-derJRBV-J",
    "outputId": "3e77609a-0797-4c34-e0e4-b0ae6e98b6a9"
   },
   "outputs": [
    {
     "data": {
      "text/plain": [
       "{'verbose': 1, 'epochs': 20, 'steps': 1719}"
      ]
     },
     "execution_count": 32,
     "metadata": {},
     "output_type": "execute_result"
    }
   ],
   "source": [
    "history.params"
   ]
  },
  {
   "cell_type": "code",
   "execution_count": 33,
   "metadata": {
    "colab": {
     "base_uri": "https://localhost:8080/"
    },
    "id": "o1lgZV6pBYRh",
    "outputId": "28e7d2cc-bdab-485b-8955-b2596d883aed"
   },
   "outputs": [
    {
     "name": "stdout",
     "output_type": "stream",
     "text": [
      "[0, 1, 2, 3, 4, 5, 6, 7, 8, 9, 10, 11, 12, 13, 14, 15, 16, 17, 18, 19]\n"
     ]
    }
   ],
   "source": [
    "print(history.epoch)"
   ]
  },
  {
   "cell_type": "code",
   "execution_count": 34,
   "metadata": {
    "colab": {
     "base_uri": "https://localhost:8080/"
    },
    "id": "W3Vr-OmfBazR",
    "outputId": "ff429beb-03f0-495f-a492-31988c4a4628"
   },
   "outputs": [
    {
     "data": {
      "text/plain": [
       "dict_keys(['loss', 'accuracy', 'val_loss', 'val_accuracy'])"
      ]
     },
     "execution_count": 34,
     "metadata": {},
     "output_type": "execute_result"
    }
   ],
   "source": [
    "history.history.keys()"
   ]
  },
  {
   "attachments": {},
   "cell_type": "markdown",
   "metadata": {
    "id": "IYdaesVPxeJP"
   },
   "source": [
    "You can use this data to plot the bias-variance curve. You can see that we have still not overfit the model, so we could probably keep training for more epochs.\n",
    "The validation set loss plot serves as our Test data line in the graph in the Performance Evaluation lecture, while the training set loss plot serves as the CV line in our graph in lecture"
   ]
  },
  {
   "cell_type": "code",
   "execution_count": 35,
   "metadata": {
    "colab": {
     "base_uri": "https://localhost:8080/",
     "height": 324
    },
    "id": "oUce32AmBdWw",
    "outputId": "aedba1bd-5f88-4bfa-dbeb-26522edbd2db"
   },
   "outputs": [
    {
     "data": {
      "image/png": "[encoded data removed]",
      "text/plain": [
       "<Figure size 800x500 with 1 Axes>"
      ]
     },
     "metadata": {},
     "output_type": "display_data"
    }
   ],
   "source": [
    "pd.DataFrame(history.history).plot(figsize=(8, 5))\n",
    "plt.grid(True)\n",
    "plt.gca().set_ylim(0, 1)\n",
    "plt.show()"
   ]
  },
  {
   "attachments": {},
   "cell_type": "markdown",
   "metadata": {
    "id": "RrGFWucUzJjB"
   },
   "source": [
    "If you are not satisfied with your model perfomance,\n",
    "* first tune the hyperparameters, starting with the learning rate, and then other hyper parameters\n",
    "* if that does not help, then tune the model parameters such as the number of layers, number of neurons per layer, and the types of activation functions for each hidden layer\n",
    "* You can also try tuning the batch size hyperparameter\n",
    "\n",
    "Once you are satisfied with the model's performance, evaluate it on the test set to estimate the generalization error using the evaluate() method"
   ]
  },
  {
   "cell_type": "code",
   "execution_count": 36,
   "metadata": {
    "colab": {
     "base_uri": "https://localhost:8080/"
    },
    "id": "IanmcfFqBkwQ",
    "outputId": "e84f8994-7fe1-468f-e86c-1d6f5a1f63bc"
   },
   "outputs": [
    {
     "name": "stdout",
     "output_type": "stream",
     "text": [
      "313/313 [==============================] - 1s 4ms/step - loss: 0.0849 - accuracy: 0.9739\n"
     ]
    },
    {
     "data": {
      "text/plain": [
       "[0.08488771319389343, 0.9739000201225281]"
      ]
     },
     "execution_count": 36,
     "metadata": {},
     "output_type": "execute_result"
    }
   ],
   "source": [
    "model.evaluate(X_test, y_test)"
   ]
  },
  {
   "attachments": {},
   "cell_type": "markdown",
   "metadata": {
    "id": "X0zsUfKG13f1"
   },
   "source": [
    "Next, use the predict() method to make predictions. Since we don't have new instances, let's just use the first 3 instances of the test set."
   ]
  },
  {
   "cell_type": "code",
   "execution_count": 87,
   "metadata": {},
   "outputs": [
    {
     "data": {
      "image/png": "[encoded data removed]",
      "text/plain": [
       "<Figure size 360x120 with 3 Axes>"
      ]
     },
     "metadata": {},
     "output_type": "display_data"
    }
   ],
   "source": [
    "n_rows = 1\n",
    "n_cols = 3\n",
    "plt.figure(figsize=(n_cols * 1.2, n_rows * 1.2))\n",
    "for row in range(n_rows):\n",
    "    for col in range(n_cols):\n",
    "        index = n_cols * row + col\n",
    "        plt.subplot(n_rows, n_cols, index + 1)\n",
    "        plt.imshow(X_test[index], cmap=\"binary\", interpolation=\"nearest\")\n",
    "        plt.axis('off')\n",
    "        plt.title(class_names[y_test[index]], fontsize=12)\n",
    "plt.subplots_adjust(wspace=0.2, hspace=0.5)\n",
    "plt.show()"
   ]
  },
  {
   "cell_type": "code",
   "execution_count": 88,
   "metadata": {
    "colab": {
     "base_uri": "https://localhost:8080/"
    },
    "id": "gJwRTfCeBlfw",
    "outputId": "530f91f9-e57a-418f-cd20-d5332bf2b3dc"
   },
   "outputs": [
    {
     "name": "stdout",
     "output_type": "stream",
     "text": [
      "1/1 [==============================] - 0s 113ms/step\n"
     ]
    },
    {
     "data": {
      "text/plain": [
       "array([[0.     , 0.     , 0.00023, 0.00032, 0.     , 0.     , 0.     ,\n",
       "        0.99942, 0.00001, 0.00001],\n",
       "       [0.     , 0.00007, 0.99875, 0.00114, 0.     , 0.     , 0.00001,\n",
       "        0.     , 0.00003, 0.     ],\n",
       "       [0.00001, 0.99254, 0.00076, 0.00016, 0.00053, 0.00007, 0.00017,\n",
       "        0.00361, 0.00203, 0.00011]], dtype=float32)"
      ]
     },
     "execution_count": 88,
     "metadata": {},
     "output_type": "execute_result"
    }
   ],
   "source": [
    "X_new = X_test[:3]\n",
    "y_proba = model.predict(X_new)\n",
    "y_proba.round(5)"
   ]
  },
  {
   "attachments": {},
   "cell_type": "markdown",
   "metadata": {
    "id": "LEdePtun2I0W"
   },
   "source": [
    "As you can see above, there are three vecors in the array; each one corresponding to a sample in the subset.  Each vector is the resulting probabalistic predictions that the model estimates  for each class from 0 to 9. \n",
    "\n",
    "So to translate the array above to layman's:\n",
    "* [1] is class 7 (number 7) with 100% probability class 7 (sneaker) with 3% probability. \n",
    "* [2] is class 2 (number 2) with 100% probability \n",
    "* [3] is class 1 (number 1) with 0.99% probability \n",
    "\n",
    "If you only care about the class with the highest estimated probability (even if that probability is quite low), then you can use the predict() method instead"
   ]
  },
  {
   "cell_type": "code",
   "execution_count": 90,
   "metadata": {
    "colab": {
     "base_uri": "https://localhost:8080/"
    },
    "id": "PALmH70nBrsG",
    "outputId": "41a7c53b-fefa-4571-a73e-6e76e784f6eb"
   },
   "outputs": [
    {
     "name": "stdout",
     "output_type": "stream",
     "text": [
      "1/1 [==============================] - 0s 111ms/step\n",
      "[[[0.00000278 0.00000013 0.0002333  0.00032218 0.00000024 0.00000202\n",
      "   0.         0.99941623 0.0000119  0.00001116]]\n",
      "\n",
      " [[0.00000219 0.00007441 0.99874604 0.0011383  0.         0.00000111\n",
      "   0.00001147 0.         0.00002651 0.        ]]\n",
      "\n",
      " [[0.00000796 0.9925371  0.0007588  0.00016392 0.00053235 0.00007455\n",
      "   0.00017208 0.00361067 0.00203492 0.00010756]]]\n"
     ]
    }
   ],
   "source": [
    "y_pred = model.predict(X_new)\n",
    "# Disable Scientific Notation for easy reading\n",
    "np.set_printoptions(suppress=True)\n",
    "print(np.expand_dims(y_pred, axis=1)) "
   ]
  },
  {
   "cell_type": "code",
   "execution_count": 91,
   "metadata": {
    "colab": {
     "base_uri": "https://localhost:8080/"
    },
    "id": "poe9-G15Bu7h",
    "outputId": "be10e948-c4ab-4e16-bfc1-d0bbca0257ba"
   },
   "outputs": [
    {
     "data": {
      "text/plain": [
       "array(['7', '2', '1'], dtype='<U1')"
      ]
     },
     "execution_count": 91,
     "metadata": {},
     "output_type": "execute_result"
    }
   ],
   "source": [
    "pred = np.argmax(y_pred,axis=1)\n",
    "np.array(class_names)[pred]"
   ]
  },
  {
   "attachments": {},
   "cell_type": "markdown",
   "metadata": {
    "id": "0r17kkU43fHo"
   },
   "source": [
    "Here the classifier classified all three images correctly."
   ]
  },
  {
   "cell_type": "code",
   "execution_count": 92,
   "metadata": {
    "colab": {
     "base_uri": "https://localhost:8080/"
    },
    "id": "VREFQo6mBvdf",
    "outputId": "fe88e30f-86ca-4a8d-aa2f-aef58792082f"
   },
   "outputs": [
    {
     "data": {
      "text/plain": [
       "array([7, 2, 1], dtype=uint8)"
      ]
     },
     "execution_count": 92,
     "metadata": {},
     "output_type": "execute_result"
    }
   ],
   "source": [
    "y_new = y_test[:3]\n",
    "y_new"
   ]
  },
  {
   "attachments": {},
   "cell_type": "markdown",
   "metadata": {
    "id": "wI9BMVA03nSg"
   },
   "source": [
    "And we can see the actual images too"
   ]
  },
  {
   "cell_type": "code",
   "execution_count": 93,
   "metadata": {
    "colab": {
     "base_uri": "https://localhost:8080/",
     "height": 165
    },
    "id": "CgaA2TtqBx4W",
    "outputId": "8e1057fe-f62e-4df2-ebf9-807e8bd4bbe9"
   },
   "outputs": [
    {
     "data": {
      "image/png": "[encoded data removed]",
      "text/plain": [
       "<Figure size 720x240 with 3 Axes>"
      ]
     },
     "metadata": {},
     "output_type": "display_data"
    }
   ],
   "source": [
    "plt.figure(figsize=(7.2, 2.4))\n",
    "for index, image in enumerate(X_new):\n",
    "    plt.subplot(1, 3, index + 1)\n",
    "    plt.imshow(image, cmap=\"binary\", interpolation=\"nearest\")\n",
    "    plt.axis('off')\n",
    "    plt.title(class_names[y_test[index]], fontsize=12)\n",
    "plt.subplots_adjust(wspace=0.2, hspace=0.5)\n",
    "plt.show()"
   ]
  },
  {
   "attachments": {},
   "cell_type": "markdown",
   "metadata": {
    "id": "hEJkcaxJ3wRg"
   },
   "source": [
    "So hopefully this gives you an idea of how to set up a multilayer neural network using tensor flow and keras"
   ]
  }
 ],
 "metadata": {
  "colab": {
   "provenance": []
  },
  "kernelspec": {
   "display_name": "Python 3 (ipykernel)",
   "language": "python",
   "name": "python3"
  },
  "language_info": {
   "codemirror_mode": {
    "name": "ipython",
    "version": 3
   },
   "file_extension": ".py",
   "mimetype": "text/x-python",
   "name": "python",
   "nbconvert_exporter": "python",
   "pygments_lexer": "ipython3",
   "version": "3.10.6"
  }
 },
 "nbformat": 4,
 "nbformat_minor": 1
}
