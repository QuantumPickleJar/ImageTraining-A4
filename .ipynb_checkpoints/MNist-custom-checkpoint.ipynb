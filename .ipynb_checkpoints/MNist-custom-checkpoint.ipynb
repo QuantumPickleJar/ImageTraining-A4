{
 "cells": [
  {
   "cell_type": "markdown",
   "metadata": {
    "id": "NUq5afJUk2GI"
   },
   "source": [
    "# Training a Multilayer Neural Network for Image Classification"
   ]
  },
  {
   "cell_type": "markdown",
   "metadata": {
    "id": "f_I8OzI44AZq"
   },
   "source": [
    "First, let's import the necessary packages"
   ]
  },
  {
   "cell_type": "code",
   "execution_count": 1,
   "metadata": {
    "id": "0dD9mzks9jA-"
   },
   "outputs": [],
   "source": [
    "import sys, os\n",
    "import sklearn\n",
    "import numpy as np\n",
    "import pandas as pd\n",
    "import matplotlib as mpl\n",
    "import matplotlib.pyplot as plt\n",
    "import tensorflow as tf\n",
    "from tensorflow import keras"
   ]
  },
  {
   "cell_type": "code",
   "execution_count": 2,
   "metadata": {
    "id": "OxxSrgpX-i2w"
   },
   "outputs": [],
   "source": [
    "# Ignore useless warnings \n",
    "import warnings\n",
    "warnings.filterwarnings(action=\"ignore\", message=\"^internal gelsd\")"
   ]
  },
  {
   "cell_type": "markdown",
   "metadata": {
    "id": "uoNZl4FKci-A"
   },
   "source": [
    "The MNIST dataset is a set of images of handwritten digits 0-9, with the associated target classes also numbered as 0-9. "
   ]
  },
  {
   "cell_type": "code",
   "execution_count": 3,
   "metadata": {
    "colab": {
     "base_uri": "https://localhost:8080/"
    },
    "id": "U_n5ZE6K-NbR",
    "outputId": "9b3bf1a5-a500-4af8-a97f-66c14aae2f3f"
   },
   "outputs": [],
   "source": [
    "digits_mnist = keras.datasets.mnist.load_data()\n",
    "(X_train_full, y_train_full), (X_test, y_test) = keras.datasets.mnist.load_data()"
   ]
  },
  {
   "cell_type": "markdown",
   "metadata": {
    "id": "ZnkyvtoHf2qD"
   },
   "source": [
    "Let's look at the shape and data of the training set"
   ]
  },
  {
   "cell_type": "code",
   "execution_count": 4,
   "metadata": {
    "colab": {
     "base_uri": "https://localhost:8080/"
    },
    "id": "UEj2Z1zw-Q5I",
    "outputId": "5f17b418-4a16-411c-9bed-5e85c2527f0e"
   },
   "outputs": [
    {
     "data": {
      "text/plain": [
       "(60000, 28, 28)"
      ]
     },
     "execution_count": 4,
     "metadata": {},
     "output_type": "execute_result"
    }
   ],
   "source": [
    "X_train_full.shape"
   ]
  },
  {
   "cell_type": "code",
   "execution_count": 5,
   "metadata": {
    "colab": {
     "base_uri": "https://localhost:8080/"
    },
    "id": "2AEQIVoR-X-4",
    "outputId": "6324f437-86cf-4f92-c200-581d9fb6bd2e"
   },
   "outputs": [
    {
     "data": {
      "text/plain": [
       "dtype('uint8')"
      ]
     },
     "execution_count": 5,
     "metadata": {},
     "output_type": "execute_result"
    }
   ],
   "source": [
    "X_train_full.dtype"
   ]
  },
  {
   "cell_type": "markdown",
   "metadata": {
    "id": "K6I2mcj6f_OL"
   },
   "source": [
    "Instead of eventually doing cross validation on the training set, let's further break the training set into a training set and a validation set, as this is more reliable, if we have the data to do it. Let's also scale the intensities of each pixel to be in the range 0-1.\n"
   ]
  },
  {
   "cell_type": "code",
   "execution_count": 6,
   "metadata": {
    "id": "tCSxASxj-fCI"
   },
   "outputs": [],
   "source": [
    "X_valid, X_train = X_train_full[:5000] / 255., X_train_full[5000:] / 255.\n",
    "y_valid, y_train = y_train_full[:5000], y_train_full[5000:]\n",
    "X_test = X_test / 255."
   ]
  },
  {
   "cell_type": "markdown",
   "metadata": {
    "id": "X92KwddDgk40"
   },
   "source": [
    "Let's look at the first image in the training set:"
   ]
  },
  {
   "cell_type": "code",
   "execution_count": 7,
   "metadata": {
    "colab": {
     "base_uri": "https://localhost:8080/",
     "height": 248
    },
    "id": "zmpTm1f7-gXY",
    "outputId": "5fcbef31-3cc2-4a27-a48a-68fbd04eda62"
   },
   "outputs": [
    {
     "data": {
      "image/png": "[encoded data removed]",
      "text/plain": [
       "<Figure size 640x480 with 1 Axes>"
      ]
     },
     "metadata": {},
     "output_type": "display_data"
    }
   ],
   "source": [
    "plt.imshow(X_train[0], cmap=\"binary\")\n",
    "plt.axis('off')\n",
    "plt.show()"
   ]
  },
  {
   "cell_type": "markdown",
   "metadata": {
    "id": "F9ovK_9nguBk"
   },
   "source": [
    "The labels are numbers that correspond to the class names"
   ]
  },
  {
   "cell_type": "code",
   "execution_count": 8,
   "metadata": {
    "colab": {
     "base_uri": "https://localhost:8080/"
    },
    "id": "koEZXYce_pUy",
    "outputId": "2e7b810c-69ed-446d-df90-f75e148e6b34"
   },
   "outputs": [
    {
     "data": {
      "text/plain": [
       "array([7, 3, 4, ..., 5, 6, 8], dtype=uint8)"
      ]
     },
     "execution_count": 8,
     "metadata": {},
     "output_type": "execute_result"
    }
   ],
   "source": [
    "y_train"
   ]
  },
  {
   "cell_type": "markdown",
   "metadata": {
    "id": "Vg4PRQMP_qz4"
   },
   "source": [
    "Here are the corresponding class names:"
   ]
  },
  {
   "cell_type": "code",
   "execution_count": 9,
   "metadata": {
    "colab": {
     "base_uri": "https://localhost:8080/",
     "height": 38
    },
    "id": "LY0Nl_fK_w_J",
    "outputId": "6f167a8f-61f4-48c2-c60d-ebf1235e8d52"
   },
   "outputs": [
    {
     "data": {
      "text/plain": [
       "'7'"
      ]
     },
     "execution_count": 9,
     "metadata": {},
     "output_type": "execute_result"
    }
   ],
   "source": [
    "class_names = [\"0\",\"1\",\"2\",\"3\",\"4\",\"5\",\"6\",\"7\",\"8\",\"9\"]\n",
    "class_names[y_train[0]]"
   ]
  },
  {
   "cell_type": "markdown",
   "metadata": {
    "id": "uMlfQRaKg8iP"
   },
   "source": [
    "Let's look at the sizes for our train, validation and test sets:"
   ]
  },
  {
   "cell_type": "code",
   "execution_count": 10,
   "metadata": {
    "colab": {
     "base_uri": "https://localhost:8080/"
    },
    "id": "kvigI7nYK66z",
    "outputId": "74807ade-f8b6-4798-e5af-4e0aa39d9e6f"
   },
   "outputs": [
    {
     "data": {
      "text/plain": [
       "(55000, 28, 28)"
      ]
     },
     "execution_count": 10,
     "metadata": {},
     "output_type": "execute_result"
    }
   ],
   "source": [
    "X_train.shape"
   ]
  },
  {
   "cell_type": "code",
   "execution_count": 11,
   "metadata": {
    "colab": {
     "base_uri": "https://localhost:8080/"
    },
    "id": "rFmQxWqYAAwV",
    "outputId": "01d363d3-d231-4818-8f3d-705bf5634c31"
   },
   "outputs": [
    {
     "data": {
      "text/plain": [
       "(5000, 28, 28)"
      ]
     },
     "execution_count": 11,
     "metadata": {},
     "output_type": "execute_result"
    }
   ],
   "source": [
    "X_valid.shape"
   ]
  },
  {
   "cell_type": "code",
   "execution_count": 12,
   "metadata": {
    "colab": {
     "base_uri": "https://localhost:8080/"
    },
    "id": "kpYKx8lqAD6A",
    "outputId": "09623392-b382-4685-c9dc-3438a329865b"
   },
   "outputs": [
    {
     "data": {
      "text/plain": [
       "(10000, 28, 28)"
      ]
     },
     "execution_count": 12,
     "metadata": {},
     "output_type": "execute_result"
    }
   ],
   "source": [
    "X_test.shape"
   ]
  },
  {
   "cell_type": "markdown",
   "metadata": {
    "id": "faHdyHBuhTup"
   },
   "source": [
    "Let's take a look at a sample of the images in the dataset:"
   ]
  },
  {
   "cell_type": "code",
   "execution_count": 13,
   "metadata": {
    "colab": {
     "base_uri": "https://localhost:8080/",
     "height": 308
    },
    "id": "OO_sa872ALwo",
    "outputId": "950e7996-07b7-43b5-bf33-dcc43eb52963"
   },
   "outputs": [
    {
     "data": {
      "image/png": "[encoded data removed]",
      "text/plain": [
       "<Figure size 1200x480 with 40 Axes>"
      ]
     },
     "metadata": {},
     "output_type": "display_data"
    }
   ],
   "source": [
    "n_rows = 4\n",
    "n_cols = 10\n",
    "plt.figure(figsize=(n_cols * 1.2, n_rows * 1.2))\n",
    "for row in range(n_rows):\n",
    "    for col in range(n_cols):\n",
    "        index = n_cols * row + col\n",
    "        plt.subplot(n_rows, n_cols, index + 1)\n",
    "        plt.imshow(X_train[index], cmap=\"binary\", interpolation=\"nearest\")\n",
    "        plt.axis('off')\n",
    "        plt.title(class_names[y_train[index]], fontsize=12)\n",
    "plt.subplots_adjust(wspace=0.2, hspace=0.5)\n",
    "plt.show()"
   ]
  },
  {
   "cell_type": "markdown",
   "metadata": {
    "id": "zx_zJWonhdZi"
   },
   "source": [
    "<!--Let's build a neural network with <b>five</b> hidden layers. Let's setup our random seeds for reproducibility-->\n",
    "Let's build a neural network with <b>two</b> hidden layers. Let's setup our random seeds for reproducibility"
   ]
  },
  {
   "cell_type": "code",
   "execution_count": 14,
   "metadata": {
    "id": "HOw6gN7AAfYI"
   },
   "outputs": [],
   "source": [
    "keras.backend.clear_session()\n",
    "np.random.seed(42)\n",
    "tf.random.set_seed(42)"
   ]
  },
  {
   "cell_type": "markdown",
   "metadata": {
    "id": "_GeIgmi_hyVc"
   },
   "source": [
    "Let's use the simplest sequential model. \n",
    "* We build our input layer that flattens the images into a 1D array.\n",
    "\n",
    "* First, we add a dense hidden layer with 200 neurons; it manages its own weight matrix and bias terms, and uses the ReLU activation function.\n",
    "\n",
    "* Next, we add a second hidden layer with 60 neurons and the ReLU activation function.\n",
    "\n",
    "<!--\n",
    "* Next, we add a second hidden layer with 100 neurons and the ReLU activation function.\n",
    "* Then we add a third hidden layer with 35 neurons and the ReLU activation function.\n",
    "-->\n",
    "\n",
    "* Finally, we add the output layer with 10 neurons (for the 10 output classes). Since we must choose one of those 10 classes, we use the softmax activation function, rather than the sigmoid activation function. Softmax can handle the multinomial classification problem. \n",
    "\n",
    "\n"
   ]
  },
  {
   "cell_type": "code",
   "execution_count": 15,
   "metadata": {
    "id": "gFdysegXHle2"
   },
   "outputs": [],
   "source": [
    "model = keras.models.Sequential()\n",
    "model.add(keras.layers.Flatten(input_shape=[28, 28]))\n",
    "model.add(keras.layers.Dense(200, activation=\"relu\"))\n",
    "model.add(keras.layers.Dense(60, activation=\"relu\"))\n",
    "model.add(keras.layers.Dense(10, activation=\"softmax\"))"
   ]
  },
  {
   "cell_type": "markdown",
   "metadata": {
    "id": "Y5OMf5bHlU0A"
   },
   "source": [
    "You can look at textual and visual summaries of the model"
   ]
  },
  {
   "cell_type": "code",
   "execution_count": 16,
   "metadata": {
    "colab": {
     "base_uri": "https://localhost:8080/"
    },
    "id": "UYPdZAYjAwKZ",
    "outputId": "fdcb0bd7-afb4-476f-d620-3bd138624222"
   },
   "outputs": [
    {
     "name": "stdout",
     "output_type": "stream",
     "text": [
      "Model: \"sequential\"\n",
      "_________________________________________________________________\n",
      " Layer (type)                Output Shape              Param #   \n",
      "=================================================================\n",
      " flatten (Flatten)           (None, 784)               0         \n",
      "                                                                 \n",
      " dense (Dense)               (None, 200)               157000    \n",
      "                                                                 \n",
      " dense_1 (Dense)             (None, 60)                12060     \n",
      "                                                                 \n",
      " dense_2 (Dense)             (None, 10)                610       \n",
      "                                                                 \n",
      "=================================================================\n",
      "Total params: 169,670\n",
      "Trainable params: 169,670\n",
      "Non-trainable params: 0\n",
      "_________________________________________________________________\n"
     ]
    }
   ],
   "source": [
    "model.summary()"
   ]
  },
  {
   "cell_type": "code",
   "execution_count": 17,
   "metadata": {
    "colab": {
     "base_uri": "https://localhost:8080/",
     "height": 533
    },
    "id": "jCN7M9vDA1c9",
    "outputId": "3d7d7c64-a9b1-470e-ef35-672207542456"
   },
   "outputs": [
    {
     "data": {
      "image/png": "[encoded data removed]",
      "text/plain": [
       "<IPython.core.display.Image object>"
      ]
     },
     "execution_count": 17,
     "metadata": {},
     "output_type": "execute_result"
    }
   ],
   "source": [
    "keras.utils.plot_model(model, \"my_digit_mnist_model.png\",show_shapes=True)"
   ]
  },
  {
   "cell_type": "markdown",
   "metadata": {
    "id": "FEoXBHMClAfF"
   },
   "source": [
    "You can access the model's layers and individual layers as below. "
   ]
  },
  {
   "cell_type": "code",
   "execution_count": 18,
   "metadata": {
    "colab": {
     "base_uri": "https://localhost:8080/"
    },
    "id": "e2roMeHOk-4I",
    "outputId": "a422a0ce-03b2-4101-b357-0b6e0538e73d"
   },
   "outputs": [
    {
     "data": {
      "text/plain": [
       "[<keras.layers.reshaping.flatten.Flatten at 0x12b7b75b4c0>,\n",
       " <keras.layers.core.dense.Dense at 0x12b7badd840>,\n",
       " <keras.layers.core.dense.Dense at 0x12b7badf5b0>,\n",
       " <keras.layers.core.dense.Dense at 0x12b7badf5e0>]"
      ]
     },
     "execution_count": 18,
     "metadata": {},
     "output_type": "execute_result"
    }
   ],
   "source": [
    "model.layers"
   ]
  },
  {
   "cell_type": "markdown",
   "metadata": {},
   "source": [
    "Not of significant importance, but notice how our count of layers is accessible.  It's convenient!"
   ]
  },
  {
   "cell_type": "code",
   "execution_count": 19,
   "metadata": {
    "colab": {
     "base_uri": "https://localhost:8080/",
     "height": 38
    },
    "id": "qkMzIA60A29I",
    "outputId": "3bc0ec2b-4e08-4c9d-ee23-74bb16779a5b"
   },
   "outputs": [
    {
     "data": {
      "text/plain": [
       "<KerasTensor: shape=(None, 200) dtype=float32 (created by layer 'dense')>"
      ]
     },
     "execution_count": 19,
     "metadata": {},
     "output_type": "execute_result"
    }
   ],
   "source": [
    "hidden1 = model.layers[1]\n",
    "hidden1.output"
   ]
  },
  {
   "cell_type": "code",
   "execution_count": 20,
   "metadata": {
    "colab": {
     "base_uri": "https://localhost:8080/"
    },
    "id": "-JFEduhsA862",
    "outputId": "f0b905c1-0c5e-4e76-95a1-739866c88b4f"
   },
   "outputs": [
    {
     "data": {
      "text/plain": [
       "True"
      ]
     },
     "execution_count": 20,
     "metadata": {},
     "output_type": "execute_result"
    }
   ],
   "source": [
    "model.get_layer(hidden1.name) is hidden1"
   ]
  },
  {
   "cell_type": "markdown",
   "metadata": {
    "id": "xoW7tnzNlOZM"
   },
   "source": [
    "You can also seen the parameters for a particular layer"
   ]
  },
  {
   "cell_type": "code",
   "execution_count": 21,
   "metadata": {
    "colab": {
     "base_uri": "https://localhost:8080/"
    },
    "id": "x_9O5EinA-Ho",
    "outputId": "5d51bb87-d513-414a-e256-e5bbde19e369"
   },
   "outputs": [
    {
     "data": {
      "text/plain": [
       "array([[ 0.02719736, -0.0684241 ,  0.01293285, ...,  0.07779452,\n",
       "        -0.00544299, -0.03406516],\n",
       "       [ 0.02975932,  0.05406152, -0.03867685, ...,  0.04633704,\n",
       "        -0.04116504,  0.02089717],\n",
       "       [ 0.04223382,  0.07620628,  0.00994923, ...,  0.00016527,\n",
       "        -0.05711798,  0.01742924],\n",
       "       ...,\n",
       "       [ 0.06343877,  0.01207098,  0.03868335, ...,  0.06703115,\n",
       "         0.00019623,  0.03219307],\n",
       "       [-0.07604475, -0.07200956, -0.05047514, ...,  0.00758244,\n",
       "         0.07780166,  0.06332766],\n",
       "       [ 0.01750737,  0.04716948, -0.0397474 , ...,  0.06884606,\n",
       "        -0.06306459, -0.0179862 ]], dtype=float32)"
      ]
     },
     "execution_count": 21,
     "metadata": {},
     "output_type": "execute_result"
    }
   ],
   "source": [
    "weights, biases = hidden1.get_weights()\n",
    "weights"
   ]
  },
  {
   "cell_type": "code",
   "execution_count": 22,
   "metadata": {
    "colab": {
     "base_uri": "https://localhost:8080/"
    },
    "id": "-NtJ-7zDBDdw",
    "outputId": "69bda15c-cd26-44be-e66b-0b381336d428"
   },
   "outputs": [
    {
     "data": {
      "text/plain": [
       "(784, 200)"
      ]
     },
     "execution_count": 22,
     "metadata": {},
     "output_type": "execute_result"
    }
   ],
   "source": [
    "weights.shape"
   ]
  },
  {
   "cell_type": "code",
   "execution_count": 23,
   "metadata": {
    "colab": {
     "base_uri": "https://localhost:8080/"
    },
    "id": "aMEotDHjBGEo",
    "outputId": "5be4fa97-8321-4ecc-cd7d-81edeea0fdd8"
   },
   "outputs": [
    {
     "data": {
      "text/plain": [
       "array([0., 0., 0., 0., 0., 0., 0., 0., 0., 0., 0., 0., 0., 0., 0., 0., 0.,\n",
       "       0., 0., 0., 0., 0., 0., 0., 0., 0., 0., 0., 0., 0., 0., 0., 0., 0.,\n",
       "       0., 0., 0., 0., 0., 0., 0., 0., 0., 0., 0., 0., 0., 0., 0., 0., 0.,\n",
       "       0., 0., 0., 0., 0., 0., 0., 0., 0., 0., 0., 0., 0., 0., 0., 0., 0.,\n",
       "       0., 0., 0., 0., 0., 0., 0., 0., 0., 0., 0., 0., 0., 0., 0., 0., 0.,\n",
       "       0., 0., 0., 0., 0., 0., 0., 0., 0., 0., 0., 0., 0., 0., 0., 0., 0.,\n",
       "       0., 0., 0., 0., 0., 0., 0., 0., 0., 0., 0., 0., 0., 0., 0., 0., 0.,\n",
       "       0., 0., 0., 0., 0., 0., 0., 0., 0., 0., 0., 0., 0., 0., 0., 0., 0.,\n",
       "       0., 0., 0., 0., 0., 0., 0., 0., 0., 0., 0., 0., 0., 0., 0., 0., 0.,\n",
       "       0., 0., 0., 0., 0., 0., 0., 0., 0., 0., 0., 0., 0., 0., 0., 0., 0.,\n",
       "       0., 0., 0., 0., 0., 0., 0., 0., 0., 0., 0., 0., 0., 0., 0., 0., 0.,\n",
       "       0., 0., 0., 0., 0., 0., 0., 0., 0., 0., 0., 0., 0.], dtype=float32)"
      ]
     },
     "execution_count": 23,
     "metadata": {},
     "output_type": "execute_result"
    }
   ],
   "source": [
    "biases"
   ]
  },
  {
   "cell_type": "code",
   "execution_count": 24,
   "metadata": {
    "colab": {
     "base_uri": "https://localhost:8080/"
    },
    "id": "3PsqkiW2BIe4",
    "outputId": "edbcfd3a-c472-4e18-90bf-7ed832eef64b"
   },
   "outputs": [
    {
     "data": {
      "text/plain": [
       "(200,)"
      ]
     },
     "execution_count": 24,
     "metadata": {},
     "output_type": "execute_result"
    }
   ],
   "source": [
    "biases.shape"
   ]
  },
  {
   "cell_type": "markdown",
   "metadata": {
    "id": "I7LLYrdHlmIL"
   },
   "source": [
    "After a model is created, you must call its compile() method to specify the loss function and optimizer to use. You can also optionally specify extra metrics to compute during training and evaluation. For more information, check out the<code>keras</code>documentation: https://keras.io/api/models/\n",
    "To start out, we'll use a stochastic gradient descent model.\n",
    "\n",
    "<h2>Critical points:</h2>\n",
    "*  We use \"sparse_categorical_crossentropy\" because we have sparse labels.  </br>\n",
    "   That is, for each instance examined, there is a target class index from 0-9.* </br>\n",
    "* We will train the model using simple stochastic gradient descent  with a learning rate of 0.01 and momentum of 0. There are multiple parameters you can specify here.\n",
    "\n",
    "\\* Since this is a classifier, it's useful to measure the accuracy during training and evaluation<br/>\n",
    "<p><b>*</b> Were we performing <i>binary</i> classification: \n",
    "<ul>\n",
    "    <ol>\n",
    "    <li>\n",
    "        <b>Activation Function:</b> Sigmoid returns 0 or 1, so sigmoid would outperform softmax </li>\n",
    "    <li>\n",
    "        <b>Classification:</b> we'd use a <code>binary_crossentropy</code></li>     \n",
    "    </ol>\n",
    "</ul>\n",
    "</p>"
   ]
  },
  {
   "cell_type": "code",
   "execution_count": 25,
   "metadata": {
    "id": "KLFB3HNhBNpF"
   },
   "outputs": [],
   "source": [
    "model.compile(loss=\"sparse_categorical_crossentropy\",\n",
    "              optimizer=keras.optimizers.SGD(learning_rate=0.01,momentum=0.0),\n",
    "              metrics=[\"accuracy\"])"
   ]
  },
  {
   "cell_type": "markdown",
   "metadata": {
    "id": "LgIupY-WnpKU"
   },
   "source": [
    "To train the model, we simply call the fit function. \n",
    "* We specify the epochs, and we provide our validation set. Since we have this validation set, we will not use cross validation. The training reports a training and validation loss and accuracy.\n",
    "* fit() defaults to a batch_size of 32 This means that 32 sampled instances are used per epoch, and not the full training set. While it is the default value, it's important to note that it's been found that using the full training set can lead to suboptimal model generation. If a larger value is desired, stick to powers of 2."
   ]
  },
  {
   "cell_type": "code",
   "execution_count": 26,
   "metadata": {
    "colab": {
     "base_uri": "https://localhost:8080/"
    },
    "id": "shf0RwCLBUpx",
    "outputId": "64b007b6-e389-4786-fecb-de1a2b9923e8"
   },
   "outputs": [
    {
     "name": "stdout",
     "output_type": "stream",
     "text": [
      "Epoch 1/20\n",
      "1719/1719 [==============================] - 12s 6ms/step - loss: 0.6494 - accuracy: 0.8274 - val_loss: 0.3081 - val_accuracy: 0.9178\n",
      "Epoch 2/20\n",
      "1719/1719 [==============================] - 12s 7ms/step - loss: 0.2921 - accuracy: 0.9169 - val_loss: 0.2382 - val_accuracy: 0.9348\n",
      "Epoch 3/20\n",
      "1719/1719 [==============================] - 10s 6ms/step - loss: 0.2379 - accuracy: 0.9316 - val_loss: 0.1999 - val_accuracy: 0.9458\n",
      "Epoch 4/20\n",
      "1719/1719 [==============================] - 11s 7ms/step - loss: 0.2037 - accuracy: 0.9417 - val_loss: 0.1792 - val_accuracy: 0.9522\n",
      "Epoch 5/20\n",
      "1719/1719 [==============================] - 10s 6ms/step - loss: 0.1793 - accuracy: 0.9490 - val_loss: 0.1599 - val_accuracy: 0.9582\n",
      "Epoch 6/20\n",
      "1719/1719 [==============================] - 10s 6ms/step - loss: 0.1600 - accuracy: 0.9540 - val_loss: 0.1491 - val_accuracy: 0.9618\n",
      "Epoch 7/20\n",
      "1719/1719 [==============================] - 10s 6ms/step - loss: 0.1442 - accuracy: 0.9594 - val_loss: 0.1375 - val_accuracy: 0.9624\n",
      "Epoch 8/20\n",
      "1719/1719 [==============================] - 11s 6ms/step - loss: 0.1311 - accuracy: 0.9623 - val_loss: 0.1330 - val_accuracy: 0.9638\n",
      "Epoch 9/20\n",
      "1719/1719 [==============================] - 11s 6ms/step - loss: 0.1201 - accuracy: 0.9664 - val_loss: 0.1227 - val_accuracy: 0.9658\n",
      "Epoch 10/20\n",
      "1719/1719 [==============================] - 13s 7ms/step - loss: 0.1108 - accuracy: 0.9689 - val_loss: 0.1159 - val_accuracy: 0.9672\n",
      "Epoch 11/20\n",
      "1719/1719 [==============================] - 11s 6ms/step - loss: 0.1022 - accuracy: 0.9714 - val_loss: 0.1100 - val_accuracy: 0.9694\n",
      "Epoch 12/20\n",
      "1719/1719 [==============================] - 13s 7ms/step - loss: 0.0947 - accuracy: 0.9732 - val_loss: 0.1078 - val_accuracy: 0.9694\n",
      "Epoch 13/20\n",
      "1719/1719 [==============================] - 13s 8ms/step - loss: 0.0882 - accuracy: 0.9748 - val_loss: 0.1021 - val_accuracy: 0.9730\n",
      "Epoch 14/20\n",
      "1719/1719 [==============================] - 12s 7ms/step - loss: 0.0821 - accuracy: 0.9772 - val_loss: 0.0985 - val_accuracy: 0.9738\n",
      "Epoch 15/20\n",
      "1719/1719 [==============================] - 10s 6ms/step - loss: 0.0767 - accuracy: 0.9787 - val_loss: 0.0950 - val_accuracy: 0.9738\n",
      "Epoch 16/20\n",
      "1719/1719 [==============================] - 11s 6ms/step - loss: 0.0721 - accuracy: 0.9800 - val_loss: 0.0927 - val_accuracy: 0.9734\n",
      "Epoch 17/20\n",
      "1719/1719 [==============================] - 12s 7ms/step - loss: 0.0677 - accuracy: 0.9809 - val_loss: 0.0905 - val_accuracy: 0.9744\n",
      "Epoch 18/20\n",
      "1719/1719 [==============================] - 11s 7ms/step - loss: 0.0635 - accuracy: 0.9826 - val_loss: 0.0876 - val_accuracy: 0.9764\n",
      "Epoch 19/20\n",
      "1719/1719 [==============================] - 11s 6ms/step - loss: 0.0599 - accuracy: 0.9836 - val_loss: 0.0851 - val_accuracy: 0.9780\n",
      "Epoch 20/20\n",
      "1719/1719 [==============================] - 11s 7ms/step - loss: 0.0566 - accuracy: 0.9848 - val_loss: 0.0880 - val_accuracy: 0.9762\n"
     ]
    }
   ],
   "source": [
    "history = model.fit(X_train, y_train, epochs=20,batch_size=32, \n",
    "                    validation_data=(X_valid, y_valid))"
   ]
  },
  {
   "cell_type": "markdown",
   "metadata": {
    "id": "7ZwyT0OrxIG8"
   },
   "source": [
    "The fit() method returns a history object that contains the training parameters, list of epochs it went through, and a dictionary containing the loss and extra metrics measured at the end of each epoch. "
   ]
  },
  {
   "cell_type": "code",
   "execution_count": 27,
   "metadata": {
    "colab": {
     "base_uri": "https://localhost:8080/"
    },
    "id": "ex-derJRBV-J",
    "outputId": "3e77609a-0797-4c34-e0e4-b0ae6e98b6a9"
   },
   "outputs": [
    {
     "data": {
      "text/plain": [
       "{'verbose': 1, 'epochs': 20, 'steps': 1719}"
      ]
     },
     "execution_count": 27,
     "metadata": {},
     "output_type": "execute_result"
    }
   ],
   "source": [
    "history.params"
   ]
  },
  {
   "cell_type": "code",
   "execution_count": 28,
   "metadata": {
    "colab": {
     "base_uri": "https://localhost:8080/"
    },
    "id": "o1lgZV6pBYRh",
    "outputId": "28e7d2cc-bdab-485b-8955-b2596d883aed"
   },
   "outputs": [
    {
     "name": "stdout",
     "output_type": "stream",
     "text": [
      "[0, 1, 2, 3, 4, 5, 6, 7, 8, 9, 10, 11, 12, 13, 14, 15, 16, 17, 18, 19]\n"
     ]
    }
   ],
   "source": [
    "print(history.epoch)"
   ]
  },
  {
   "cell_type": "code",
   "execution_count": 29,
   "metadata": {
    "colab": {
     "base_uri": "https://localhost:8080/"
    },
    "id": "W3Vr-OmfBazR",
    "outputId": "ff429beb-03f0-495f-a492-31988c4a4628"
   },
   "outputs": [
    {
     "data": {
      "text/plain": [
       "dict_keys(['loss', 'accuracy', 'val_loss', 'val_accuracy'])"
      ]
     },
     "execution_count": 29,
     "metadata": {},
     "output_type": "execute_result"
    }
   ],
   "source": [
    "history.history.keys()"
   ]
  },
  {
   "cell_type": "markdown",
   "metadata": {
    "id": "IYdaesVPxeJP"
   },
   "source": [
    "You can use this data to plot the bias-variance curve. You can see that we have still not overfit the model, so we could probably keep training for more epochs.\n",
    "The validation set loss plot serves as our Test data line in the graph in the Performance Evaluation lecture, while the training set loss plot serves as the CV line in our graph in lecture"
   ]
  },
  {
   "cell_type": "code",
   "execution_count": 30,
   "metadata": {
    "colab": {
     "base_uri": "https://localhost:8080/",
     "height": 324
    },
    "id": "oUce32AmBdWw",
    "outputId": "aedba1bd-5f88-4bfa-dbeb-26522edbd2db"
   },
   "outputs": [
    {
     "data": {
      "image/png": "[encoded data removed]",
      "text/plain": [
       "<Figure size 800x500 with 1 Axes>"
      ]
     },
     "metadata": {},
     "output_type": "display_data"
    }
   ],
   "source": [
    "pd.DataFrame(history.history).plot(figsize=(8, 5))\n",
    "plt.grid(True)\n",
    "plt.gca().set_ylim(0, 1)\n",
    "plt.show()"
   ]
  },
  {
   "cell_type": "markdown",
   "metadata": {
    "id": "RrGFWucUzJjB"
   },
   "source": [
    "Now that we've achieved >95% accuracy, it's time to interpret the model's performance.\n",
    "\n",
    "To do so, we'll evaluate it on the test set to estimate the generalization error using the evaluate() method"
   ]
  },
  {
   "cell_type": "code",
   "execution_count": 31,
   "metadata": {
    "colab": {
     "base_uri": "https://localhost:8080/"
    },
    "id": "IanmcfFqBkwQ",
    "outputId": "e84f8994-7fe1-468f-e86c-1d6f5a1f63bc"
   },
   "outputs": [
    {
     "name": "stdout",
     "output_type": "stream",
     "text": [
      "313/313 [==============================] - 1s 4ms/step - loss: 0.0869 - accuracy: 0.9734\n"
     ]
    },
    {
     "data": {
      "text/plain": [
       "[0.0869167372584343, 0.9733999967575073]"
      ]
     },
     "execution_count": 31,
     "metadata": {},
     "output_type": "execute_result"
    }
   ],
   "source": [
    "model.evaluate(X_test, y_test)"
   ]
  },
  {
   "cell_type": "markdown",
   "metadata": {
    "id": "X0zsUfKG13f1"
   },
   "source": [
    "Next, use the predict() method to make predictions. Since we don't have new instances, let's just use the first 3 instances of the test set."
   ]
  },
  {
   "cell_type": "code",
   "execution_count": 32,
   "metadata": {},
   "outputs": [
    {
     "data": {
      "image/png": "[encoded data removed]",
      "text/plain": [
       "<Figure size 360x120 with 3 Axes>"
      ]
     },
     "metadata": {},
     "output_type": "display_data"
    }
   ],
   "source": [
    "n_rows = 1\n",
    "n_cols = 3\n",
    "plt.figure(figsize=(n_cols * 1.2, n_rows * 1.2))\n",
    "for row in range(n_rows):\n",
    "    for col in range(n_cols):\n",
    "        index = n_cols * row + col\n",
    "        plt.subplot(n_rows, n_cols, index + 1)\n",
    "        plt.imshow(X_test[index], cmap=\"binary\", interpolation=\"nearest\")\n",
    "        plt.axis('off')\n",
    "        plt.title(class_names[y_test[index]], fontsize=12)\n",
    "plt.subplots_adjust(wspace=0.2, hspace=0.5)\n",
    "plt.show()"
   ]
  },
  {
   "cell_type": "code",
   "execution_count": 33,
   "metadata": {
    "colab": {
     "base_uri": "https://localhost:8080/"
    },
    "id": "gJwRTfCeBlfw",
    "outputId": "530f91f9-e57a-418f-cd20-d5332bf2b3dc"
   },
   "outputs": [
    {
     "name": "stdout",
     "output_type": "stream",
     "text": [
      "1/1 [==============================] - 0s 297ms/step\n"
     ]
    },
    {
     "data": {
      "text/plain": [
       "array([[0.0000e+00, 0.0000e+00, 4.0000e-05, 5.3000e-04, 0.0000e+00,\n",
       "        0.0000e+00, 0.0000e+00, 9.9941e-01, 1.0000e-05, 1.0000e-05],\n",
       "       [0.0000e+00, 1.0000e-05, 9.9977e-01, 1.9000e-04, 0.0000e+00,\n",
       "        2.0000e-05, 0.0000e+00, 0.0000e+00, 1.0000e-05, 0.0000e+00],\n",
       "       [3.0000e-05, 9.9139e-01, 1.2800e-03, 1.9000e-04, 3.3000e-04,\n",
       "        1.9000e-04, 6.7000e-04, 2.2700e-03, 3.6000e-03, 5.0000e-05]],\n",
       "      dtype=float32)"
      ]
     },
     "execution_count": 33,
     "metadata": {},
     "output_type": "execute_result"
    }
   ],
   "source": [
    "X_new = X_test[:3]\n",
    "y_proba = model.predict(X_new)\n",
    "y_proba.round(5)"
   ]
  },
  {
   "cell_type": "markdown",
   "metadata": {
    "id": "LEdePtun2I0W"
   },
   "source": [
    "As you can see above, there are three vecors in the array; each one corresponding to a sample in the subset.  Each vector is the resulting probabalistic predictions that the model estimates  for each class from 0 to 9. \n",
    "\n",
    "So to translate the array above to layman's:\n",
    "* [1] is class 7 (number 7) with 100% probability class 7 (sneaker) with 3% probability. \n",
    "* [2] is class 2 (number 2) with 100% probability \n",
    "* [3] is class 1 (number 1) with 0.99% probability \n",
    "\n",
    "If you only care about the class with the highest estimated probability (even if that probability is quite low), then you can use the predict() method instead"
   ]
  },
  {
   "cell_type": "code",
   "execution_count": 34,
   "metadata": {
    "colab": {
     "base_uri": "https://localhost:8080/"
    },
    "id": "PALmH70nBrsG",
    "outputId": "41a7c53b-fefa-4571-a73e-6e76e784f6eb"
   },
   "outputs": [
    {
     "name": "stdout",
     "output_type": "stream",
     "text": [
      "1/1 [==============================] - 0s 69ms/step\n",
      "[[[0.00000068 0.00000014 0.00004062 0.00052836 0.00000006 0.00000015\n",
      "   0.         0.9994149  0.00000715 0.00000803]]\n",
      "\n",
      " [[0.00000456 0.00000888 0.99977225 0.00018563 0.         0.00002201\n",
      "   0.00000169 0.         0.00000503 0.        ]]\n",
      "\n",
      " [[0.00002966 0.9913857  0.00128292 0.00019094 0.00033329 0.00019227\n",
      "   0.00067004 0.00226623 0.00360078 0.00004822]]]\n"
     ]
    }
   ],
   "source": [
    "y_pred = model.predict(X_new)\n",
    "# Disable Scientific Notation for easy reading\n",
    "np.set_printoptions(suppress=True)\n",
    "print(np.expand_dims(y_pred, axis=1)) "
   ]
  },
  {
   "cell_type": "code",
   "execution_count": 35,
   "metadata": {
    "colab": {
     "base_uri": "https://localhost:8080/"
    },
    "id": "poe9-G15Bu7h",
    "outputId": "be10e948-c4ab-4e16-bfc1-d0bbca0257ba"
   },
   "outputs": [
    {
     "data": {
      "text/plain": [
       "array(['7', '2', '1'], dtype='<U1')"
      ]
     },
     "execution_count": 35,
     "metadata": {},
     "output_type": "execute_result"
    }
   ],
   "source": [
    "pred = np.argmax(y_pred,axis=1)\n",
    "np.array(class_names)[pred]"
   ]
  },
  {
   "cell_type": "markdown",
   "metadata": {
    "id": "0r17kkU43fHo"
   },
   "source": [
    "Here the classifier classified all three images correctly."
   ]
  },
  {
   "cell_type": "code",
   "execution_count": 36,
   "metadata": {
    "colab": {
     "base_uri": "https://localhost:8080/"
    },
    "id": "VREFQo6mBvdf",
    "outputId": "fe88e30f-86ca-4a8d-aa2f-aef58792082f"
   },
   "outputs": [
    {
     "data": {
      "text/plain": [
       "array([7, 2, 1], dtype=uint8)"
      ]
     },
     "execution_count": 36,
     "metadata": {},
     "output_type": "execute_result"
    }
   ],
   "source": [
    "y_new = y_test[:3]\n",
    "y_new"
   ]
  },
  {
   "cell_type": "markdown",
   "metadata": {
    "id": "wI9BMVA03nSg"
   },
   "source": [
    "And we can see the actual images too"
   ]
  },
  {
   "cell_type": "code",
   "execution_count": 37,
   "metadata": {
    "colab": {
     "base_uri": "https://localhost:8080/",
     "height": 165
    },
    "id": "CgaA2TtqBx4W",
    "outputId": "8e1057fe-f62e-4df2-ebf9-807e8bd4bbe9"
   },
   "outputs": [
    {
     "data": {
      "image/png": "[encoded data removed]",
      "text/plain": [
       "<Figure size 720x240 with 3 Axes>"
      ]
     },
     "metadata": {},
     "output_type": "display_data"
    }
   ],
   "source": [
    "plt.figure(figsize=(7.2, 2.4))\n",
    "for index, image in enumerate(X_new):\n",
    "    plt.subplot(1, 3, index + 1)\n",
    "    plt.imshow(image, cmap=\"binary\", interpolation=\"nearest\")\n",
    "    plt.axis('off')\n",
    "    plt.title(class_names[y_test[index]], fontsize=12)\n",
    "plt.subplots_adjust(wspace=0.2, hspace=0.5)\n",
    "plt.show()"
   ]
  },
  {
   "cell_type": "markdown",
   "metadata": {},
   "source": [
    "# Custom Dataset: Dysgraphia charset\n",
    "I suffer from a clinical case of bad handwriting.  Courtesy of my university's Accessibility Center, I've got a nifty smart-pen that's able to record my handwriting.\n",
    "\n",
    "I figured this was a great opportunity to perform some analysis with, so I got to writing a total of 144 digits (12 of each digit). This would make for a great test set, since it's data nobody's seen before.  I've decided to go with a Genetic Algorithm and a Convoluted Neural Network: the GA seems to me like it would be free of human bias, and courtesy of the random mutation, there would be a variety of tweaks performed to the images that ought to examine the various performance measures of the model more thoroughly.\n",
    "\n",
    "### Be sure to mention that we're going to use decaying weights and some normalization\n",
    "\n",
    "<i>The page prior to the pre-processing steps performed externally is pictured below</i>"
   ]
  },
  {
   "cell_type": "markdown",
   "metadata": {},
   "source": [
    "To examine the images, we'll use the Pillow library to help us achieve this by converting the image into an 8-bit array (since RGB is 8-bit each color)"
   ]
  },
  {
   "cell_type": "code",
   "execution_count": 38,
   "metadata": {},
   "outputs": [
    {
     "data": {
      "image/png": "[encoded data removed]",
      "text/plain": [
       "<PIL.JpegImagePlugin.JpegImageFile image mode=RGB size=479x396>"
      ]
     },
     "execution_count": 38,
     "metadata": {},
     "output_type": "execute_result"
    }
   ],
   "source": [
    "from PIL import Image, ImageOps\n",
    "\n",
    "Image.open('dysgraph_master.png')"
   ]
  },
  {
   "cell_type": "markdown",
   "metadata": {},
   "source": [
    "## Further pre-processing\n",
    "\n",
    "In order to help manage any discrepencies created by my writing, we'll normalize the text per the MNIST tutorial:\n",
    "<p><i>All images are size normalized to fit in a 20x20 pixel box and there are centered in a 28x28 image using the center of mass.</i></p>\n",
    "\n",
    "Here, we've produced some functions to perform this size-normalization process using the <code>ndimage</code> library:"
   ]
  },
  {
   "cell_type": "code",
   "execution_count": 82,
   "metadata": {},
   "outputs": [],
   "source": [
    "X_custom = []\n",
    "\n",
    "# loop through each image file in the directory\n",
    "for filename in os.listdir('custom_data'):\n",
    "    # read in the image and convert to grayscale\n",
    "    img = Image.open(os.path.join('custom_data', filename)).convert('L')\n",
    "\n",
    "    # threshold the image to create a binary mask\n",
    "    img = img.point(lambda x: 0 if x < 128 else 255, '1')\n",
    "\n",
    "    # find the center of mass of the image\n",
    "    x, y = np.array(img).nonzero()\n",
    "    x_mean = int(np.mean(x))\n",
    "    y_mean = int(np.mean(y))\n",
    "\n",
    "    # crop the image to a bounding box around the center of mass\n",
    "    bbox = (y_mean-14, x_mean-14, y_mean+14, x_mean+14)\n",
    "    img = img.crop(bbox)\n",
    "\n",
    "    # resize the image to fit inside a 20x20 box\n",
    "    img = img.resize((20, 20))\n",
    "\n",
    "    # pad the image with zeros to create a 28x28 array\n",
    "    img = ImageOps.expand(img, border=(4, 4, 4, 4), fill=0)\n",
    "\n",
    "    # convert the image to a numpy array and append to the list\n",
    "    img_array = np.array(img).reshape((28, 28, 1))\n",
    "    X_custom.append(img_array)\n",
    "\n",
    "# convert the list to a numpy array\n",
    "X_custom = np.array(X_custom)\n"
   ]
  },
  {
   "cell_type": "code",
   "execution_count": 83,
   "metadata": {},
   "outputs": [
    {
     "name": "stdout",
     "output_type": "stream",
     "text": [
      "(120, 28, 28, 1)\n"
     ]
    }
   ],
   "source": [
    "print(X_custom.shape)"
   ]
  },
  {
   "cell_type": "markdown",
   "metadata": {},
   "source": [
    "### Viewing the new set\n",
    "#### Now that we've pre-processed our data, lets examine some a small subset of our test set. "
   ]
  },
  {
   "cell_type": "code",
   "execution_count": 126,
   "metadata": {},
   "outputs": [
    {
     "data": {
      "image/png": "[encoded data removed]",
      "text/plain": [
       "<Figure size 640x480 with 1 Axes>"
      ]
     },
     "metadata": {},
     "output_type": "display_data"
    }
   ],
   "source": [
    "# Select a random image \n",
    "index = np.random.randint(0, len(X_custom))\n",
    "image = X_custom[index]\n",
    "plt.imshow(image, cmap='gray')\n",
    "plt.axis('off')\n",
    "plt.show()"
   ]
  },
  {
   "cell_type": "markdown",
   "metadata": {},
   "source": [
    "## Splitting the dataset:\n",
    "\n",
    "Since our images are already scaled to the 28x28 size, we can go ahead and divide our data.  Since we have a comparatively tiny sample size this time (N = 144), we'll use use k-fold cross validation."
   ]
  },
  {
   "cell_type": "code",
   "execution_count": 110,
   "metadata": {},
   "outputs": [
    {
     "name": "stdout",
     "output_type": "stream",
     "text": [
      "X_cust_train: (96, 28, 28, 1)\n"
     ]
    }
   ],
   "source": [
    "from sklearn.model_selection import train_test_split\n",
    "X_cust_train, X_cust_test = train_test_split(X_custom, test_size=0.2, random_state=42)\n",
    "\n",
    "print(\"X_cust_train:\", X_cust_train.shape)"
   ]
  },
  {
   "cell_type": "markdown",
   "metadata": {},
   "source": [
    "##### K-Fold Cross Validation:\n",
    "\n",
    "We will use `tensorflow.keras` with **two** dense layers. Then, we compile the model via the *Adam* optimzer. This combines the AdaGrad and RMSProp, which is advantageous in situations where there's a lot of potential variance in the feature importance, and thus attempts to employ ***adaptive learning rates***.  This allows the learning rates to base itself on ther average of previous gradients to aid in convergence.\n",
    "\n",
    "##### Loss Function\n",
    "As the nature of our classification problem has gone unchanged, we will continue employing `sparse_categorical_crossentropy` for the loss function.  This is applicable when we have labels that are able to be represented as integers.  Since we're classifying *digits*, 0-9 is a range of *integers* so we've got all we need to make this a great justification.  \n",
    "\n",
    "Under the hood, the cross-entropy calculates loss between predicted probabilities and the *true* labels.  What's impressive is that it does all this *without One-Hot Encoding.*\n",
    "\n",
    "(I really didn't want to get into LaTeX, so I had a little help from Bard to nail down the syntax to get it to display in the notebook:)\n",
    "$$\\text{Loss} = -\\sum_{i=1}^{C} y_i \\log(p_i)$$\n",
    "Where:\n",
    "- (C) is the number of classes.\n",
    "- (y<sub>i</sub>) is the true label for class (i) (0 or 1)\n",
    "- (p<sub>i</sub>) is the predicted probability for class (i)"
   ]
  },
  {
   "cell_type": "code",
   "execution_count": null,
   "metadata": {},
   "outputs": [],
   "source": []
  },
  {
   "cell_type": "code",
   "execution_count": 132,
   "metadata": {},
   "outputs": [
    {
     "name": "stderr",
     "output_type": "stream",
     "text": [
      "C:\\Users\\morri\\AppData\\Local\\Temp\\ipykernel_4468\\1851528677.py:18: DeprecationWarning: KerasClassifier is deprecated, use Sci-Keras (https://github.com/adriangb/scikeras) instead. See https://www.adriangb.com/scikeras/stable/migration.html for help migrating.\n",
      "  model = KerasClassifier(build_fn=model, epochs = 20, batch_size=32)\n"
     ]
    },
    {
     "ename": "ValueError",
     "evalue": "Found input variables with inconsistent numbers of samples: [96, 55000]",
     "output_type": "error",
     "traceback": [
      "\u001b[1;31m---------------------------------------------------------------------------\u001b[0m",
      "\u001b[1;31mValueError\u001b[0m                                Traceback (most recent call last)",
      "Cell \u001b[1;32mIn[132], line 19\u001b[0m\n\u001b[0;32m     17\u001b[0m kf \u001b[38;5;241m=\u001b[39m KFold(n_splits\u001b[38;5;241m=\u001b[39mk, random_state\u001b[38;5;241m=\u001b[39m\u001b[38;5;241m42\u001b[39m, shuffle\u001b[38;5;241m=\u001b[39m\u001b[38;5;28;01mTrue\u001b[39;00m)\n\u001b[0;32m     18\u001b[0m model \u001b[38;5;241m=\u001b[39m KerasClassifier(build_fn\u001b[38;5;241m=\u001b[39mmodel, epochs \u001b[38;5;241m=\u001b[39m \u001b[38;5;241m20\u001b[39m, batch_size\u001b[38;5;241m=\u001b[39m\u001b[38;5;241m32\u001b[39m)\n\u001b[1;32m---> 19\u001b[0m scores \u001b[38;5;241m=\u001b[39m \u001b[43mcross_val_score\u001b[49m\u001b[43m(\u001b[49m\u001b[43mmodel\u001b[49m\u001b[43m,\u001b[49m\u001b[43m \u001b[49m\u001b[43mX_cust_train\u001b[49m\u001b[43m,\u001b[49m\u001b[43m \u001b[49m\u001b[43my_train\u001b[49m\u001b[43m,\u001b[49m\u001b[43m \u001b[49m\u001b[43mcv\u001b[49m\u001b[38;5;241;43m=\u001b[39;49m\u001b[43mkf\u001b[49m\u001b[43m)\u001b[49m\n\u001b[0;32m     21\u001b[0m \u001b[38;5;28mprint\u001b[39m(\u001b[38;5;124m\"\u001b[39m\u001b[38;5;124mCross-validation scores:\u001b[39m\u001b[38;5;124m\"\u001b[39m, scores)\n\u001b[0;32m     22\u001b[0m \u001b[38;5;28mprint\u001b[39m(\u001b[38;5;124m\"\u001b[39m\u001b[38;5;124mMean accuracy:\u001b[39m\u001b[38;5;124m\"\u001b[39m, scores\u001b[38;5;241m.\u001b[39mmean())\n",
      "File \u001b[1;32m~\\AppData\\Local\\Programs\\Python\\Python310\\lib\\site-packages\\sklearn\\model_selection\\_validation.py:515\u001b[0m, in \u001b[0;36mcross_val_score\u001b[1;34m(estimator, X, y, groups, scoring, cv, n_jobs, verbose, fit_params, pre_dispatch, error_score)\u001b[0m\n\u001b[0;32m    512\u001b[0m \u001b[38;5;66;03m# To ensure multimetric format is not supported\u001b[39;00m\n\u001b[0;32m    513\u001b[0m scorer \u001b[38;5;241m=\u001b[39m check_scoring(estimator, scoring\u001b[38;5;241m=\u001b[39mscoring)\n\u001b[1;32m--> 515\u001b[0m cv_results \u001b[38;5;241m=\u001b[39m \u001b[43mcross_validate\u001b[49m\u001b[43m(\u001b[49m\n\u001b[0;32m    516\u001b[0m \u001b[43m    \u001b[49m\u001b[43mestimator\u001b[49m\u001b[38;5;241;43m=\u001b[39;49m\u001b[43mestimator\u001b[49m\u001b[43m,\u001b[49m\n\u001b[0;32m    517\u001b[0m \u001b[43m    \u001b[49m\u001b[43mX\u001b[49m\u001b[38;5;241;43m=\u001b[39;49m\u001b[43mX\u001b[49m\u001b[43m,\u001b[49m\n\u001b[0;32m    518\u001b[0m \u001b[43m    \u001b[49m\u001b[43my\u001b[49m\u001b[38;5;241;43m=\u001b[39;49m\u001b[43my\u001b[49m\u001b[43m,\u001b[49m\n\u001b[0;32m    519\u001b[0m \u001b[43m    \u001b[49m\u001b[43mgroups\u001b[49m\u001b[38;5;241;43m=\u001b[39;49m\u001b[43mgroups\u001b[49m\u001b[43m,\u001b[49m\n\u001b[0;32m    520\u001b[0m \u001b[43m    \u001b[49m\u001b[43mscoring\u001b[49m\u001b[38;5;241;43m=\u001b[39;49m\u001b[43m{\u001b[49m\u001b[38;5;124;43m\"\u001b[39;49m\u001b[38;5;124;43mscore\u001b[39;49m\u001b[38;5;124;43m\"\u001b[39;49m\u001b[43m:\u001b[49m\u001b[43m \u001b[49m\u001b[43mscorer\u001b[49m\u001b[43m}\u001b[49m\u001b[43m,\u001b[49m\n\u001b[0;32m    521\u001b[0m \u001b[43m    \u001b[49m\u001b[43mcv\u001b[49m\u001b[38;5;241;43m=\u001b[39;49m\u001b[43mcv\u001b[49m\u001b[43m,\u001b[49m\n\u001b[0;32m    522\u001b[0m \u001b[43m    \u001b[49m\u001b[43mn_jobs\u001b[49m\u001b[38;5;241;43m=\u001b[39;49m\u001b[43mn_jobs\u001b[49m\u001b[43m,\u001b[49m\n\u001b[0;32m    523\u001b[0m \u001b[43m    \u001b[49m\u001b[43mverbose\u001b[49m\u001b[38;5;241;43m=\u001b[39;49m\u001b[43mverbose\u001b[49m\u001b[43m,\u001b[49m\n\u001b[0;32m    524\u001b[0m \u001b[43m    \u001b[49m\u001b[43mfit_params\u001b[49m\u001b[38;5;241;43m=\u001b[39;49m\u001b[43mfit_params\u001b[49m\u001b[43m,\u001b[49m\n\u001b[0;32m    525\u001b[0m \u001b[43m    \u001b[49m\u001b[43mpre_dispatch\u001b[49m\u001b[38;5;241;43m=\u001b[39;49m\u001b[43mpre_dispatch\u001b[49m\u001b[43m,\u001b[49m\n\u001b[0;32m    526\u001b[0m \u001b[43m    \u001b[49m\u001b[43merror_score\u001b[49m\u001b[38;5;241;43m=\u001b[39;49m\u001b[43merror_score\u001b[49m\u001b[43m,\u001b[49m\n\u001b[0;32m    527\u001b[0m \u001b[43m\u001b[49m\u001b[43m)\u001b[49m\n\u001b[0;32m    528\u001b[0m \u001b[38;5;28;01mreturn\u001b[39;00m cv_results[\u001b[38;5;124m\"\u001b[39m\u001b[38;5;124mtest_score\u001b[39m\u001b[38;5;124m\"\u001b[39m]\n",
      "File \u001b[1;32m~\\AppData\\Local\\Programs\\Python\\Python310\\lib\\site-packages\\sklearn\\model_selection\\_validation.py:252\u001b[0m, in \u001b[0;36mcross_validate\u001b[1;34m(estimator, X, y, groups, scoring, cv, n_jobs, verbose, fit_params, pre_dispatch, return_train_score, return_estimator, error_score)\u001b[0m\n\u001b[0;32m     49\u001b[0m \u001b[38;5;28;01mdef\u001b[39;00m \u001b[38;5;21mcross_validate\u001b[39m(\n\u001b[0;32m     50\u001b[0m     estimator,\n\u001b[0;32m     51\u001b[0m     X,\n\u001b[1;32m   (...)\u001b[0m\n\u001b[0;32m     63\u001b[0m     error_score\u001b[38;5;241m=\u001b[39mnp\u001b[38;5;241m.\u001b[39mnan,\n\u001b[0;32m     64\u001b[0m ):\n\u001b[0;32m     65\u001b[0m \u001b[38;5;250m    \u001b[39m\u001b[38;5;124;03m\"\"\"Evaluate metric(s) by cross-validation and also record fit/score times.\u001b[39;00m\n\u001b[0;32m     66\u001b[0m \n\u001b[0;32m     67\u001b[0m \u001b[38;5;124;03m    Read more in the :ref:`User Guide <multimetric_cross_validation>`.\u001b[39;00m\n\u001b[1;32m   (...)\u001b[0m\n\u001b[0;32m    250\u001b[0m \u001b[38;5;124;03m    [0.28009951 0.3908844  0.22784907]\u001b[39;00m\n\u001b[0;32m    251\u001b[0m \u001b[38;5;124;03m    \"\"\"\u001b[39;00m\n\u001b[1;32m--> 252\u001b[0m     X, y, groups \u001b[38;5;241m=\u001b[39m \u001b[43mindexable\u001b[49m\u001b[43m(\u001b[49m\u001b[43mX\u001b[49m\u001b[43m,\u001b[49m\u001b[43m \u001b[49m\u001b[43my\u001b[49m\u001b[43m,\u001b[49m\u001b[43m \u001b[49m\u001b[43mgroups\u001b[49m\u001b[43m)\u001b[49m\n\u001b[0;32m    254\u001b[0m     cv \u001b[38;5;241m=\u001b[39m check_cv(cv, y, classifier\u001b[38;5;241m=\u001b[39mis_classifier(estimator))\n\u001b[0;32m    256\u001b[0m     \u001b[38;5;28;01mif\u001b[39;00m \u001b[38;5;28mcallable\u001b[39m(scoring):\n",
      "File \u001b[1;32m~\\AppData\\Local\\Programs\\Python\\Python310\\lib\\site-packages\\sklearn\\utils\\validation.py:443\u001b[0m, in \u001b[0;36mindexable\u001b[1;34m(*iterables)\u001b[0m\n\u001b[0;32m    424\u001b[0m \u001b[38;5;250m\u001b[39m\u001b[38;5;124;03m\"\"\"Make arrays indexable for cross-validation.\u001b[39;00m\n\u001b[0;32m    425\u001b[0m \n\u001b[0;32m    426\u001b[0m \u001b[38;5;124;03mChecks consistent length, passes through None, and ensures that everything\u001b[39;00m\n\u001b[1;32m   (...)\u001b[0m\n\u001b[0;32m    439\u001b[0m \u001b[38;5;124;03m    sparse matrix, or dataframe) or `None`.\u001b[39;00m\n\u001b[0;32m    440\u001b[0m \u001b[38;5;124;03m\"\"\"\u001b[39;00m\n\u001b[0;32m    442\u001b[0m result \u001b[38;5;241m=\u001b[39m [_make_indexable(X) \u001b[38;5;28;01mfor\u001b[39;00m X \u001b[38;5;129;01min\u001b[39;00m iterables]\n\u001b[1;32m--> 443\u001b[0m \u001b[43mcheck_consistent_length\u001b[49m\u001b[43m(\u001b[49m\u001b[38;5;241;43m*\u001b[39;49m\u001b[43mresult\u001b[49m\u001b[43m)\u001b[49m\n\u001b[0;32m    444\u001b[0m \u001b[38;5;28;01mreturn\u001b[39;00m result\n",
      "File \u001b[1;32m~\\AppData\\Local\\Programs\\Python\\Python310\\lib\\site-packages\\sklearn\\utils\\validation.py:397\u001b[0m, in \u001b[0;36mcheck_consistent_length\u001b[1;34m(*arrays)\u001b[0m\n\u001b[0;32m    395\u001b[0m uniques \u001b[38;5;241m=\u001b[39m np\u001b[38;5;241m.\u001b[39munique(lengths)\n\u001b[0;32m    396\u001b[0m \u001b[38;5;28;01mif\u001b[39;00m \u001b[38;5;28mlen\u001b[39m(uniques) \u001b[38;5;241m>\u001b[39m \u001b[38;5;241m1\u001b[39m:\n\u001b[1;32m--> 397\u001b[0m     \u001b[38;5;28;01mraise\u001b[39;00m \u001b[38;5;167;01mValueError\u001b[39;00m(\n\u001b[0;32m    398\u001b[0m         \u001b[38;5;124m\"\u001b[39m\u001b[38;5;124mFound input variables with inconsistent numbers of samples: \u001b[39m\u001b[38;5;132;01m%r\u001b[39;00m\u001b[38;5;124m\"\u001b[39m\n\u001b[0;32m    399\u001b[0m         \u001b[38;5;241m%\u001b[39m [\u001b[38;5;28mint\u001b[39m(l) \u001b[38;5;28;01mfor\u001b[39;00m l \u001b[38;5;129;01min\u001b[39;00m lengths]\n\u001b[0;32m    400\u001b[0m     )\n",
      "\u001b[1;31mValueError\u001b[0m: Found input variables with inconsistent numbers of samples: [96, 55000]"
     ]
    }
   ],
   "source": [
    "from sklearn.model_selection import cross_val_score, KFold\n",
    "from tensorflow.keras.wrappers.scikit_learn import KerasClassifier\n",
    "from tensorflow.keras.models import Sequential\n",
    "from tensorflow.keras.layers import Dense\n",
    "\n",
    "model = Sequential()\n",
    "#model.add(Dense(64, activation='',input_shape=(28,28,1)))\n",
    "model.add(Dense(64, activation='relu',input_shape=(28,28,1)))\n",
    "\n",
    "# As before, we have a layer of 10 since we have 10 digit classes\n",
    "model.add(Dense(10, activation='softmax'))\n",
    "\n",
    "model.compile(optimizer='adam', loss='sparse_categorical_crossentropy', metrics=['accuracy'])\n",
    "\n",
    "# Here's the meat of our validation on the small data set:\n",
    "k = 5\n",
    "kf = KFold(n_splits=k, random_state=42, shuffle=True)\n",
    "model = KerasClassifier(build_fn=model, epochs = 20, batch_size=32)\n",
    "scores = cross_val_score(model, X_cust_train, y_train, cv=kf)\n",
    "\n",
    "print(\"Cross-validation scores:\", scores)\n",
    "print(\"Mean accuracy:\", scores.mean())\n",
    "\n"
   ]
  },
  {
   "cell_type": "code",
   "execution_count": null,
   "metadata": {},
   "outputs": [],
   "source": []
  },
  {
   "cell_type": "code",
   "execution_count": null,
   "metadata": {},
   "outputs": [],
   "source": [
    "from sklearn.model_selection import LeaveOneOut\n",
    "\n",
    "# Define the model architecture\n",
    "model = Sequential()\n",
    "model.add(Dense(64, activation='relu', input_shape=(28, 28, 1)))\n",
    "model.add(Dense(10, activation='softmax'))\n",
    "\n",
    "# Compile the model\n",
    "model.compile(optimizer='adam', loss='sparse_categorical_crossentropy', metrics=['accuracy'])\n",
    "\n",
    "# Perform leave-one-out cross-validation\n",
    "loo = LeaveOneOut()\n",
    "scores = cross_val_score(model, X_cust_train, y_cust_train, cv=loo)\n",
    "\n",
    "# Print the cross-validation scores\n",
    "print(\"Cross-validation scores:\", scores)\n",
    "print(\"Mean accuracy:\", scores.mean())\n"
   ]
  },
  {
   "cell_type": "code",
   "execution_count": 103,
   "metadata": {},
   "outputs": [
    {
     "ename": "ValueError",
     "evalue": "The truth value of an array with more than one element is ambiguous. Use a.any() or a.all()",
     "output_type": "error",
     "traceback": [
      "\u001b[1;31m---------------------------------------------------------------------------\u001b[0m",
      "\u001b[1;31mValueError\u001b[0m                                Traceback (most recent call last)",
      "Cell \u001b[1;32mIn[103], line 1\u001b[0m\n\u001b[1;32m----> 1\u001b[0m \u001b[43mplt\u001b[49m\u001b[38;5;241;43m.\u001b[39;49m\u001b[43mshow\u001b[49m\u001b[43m(\u001b[49m\u001b[43mX_custom\u001b[49m\u001b[43m)\u001b[49m\n",
      "File \u001b[1;32m~\\AppData\\Local\\Programs\\Python\\Python310\\lib\\site-packages\\matplotlib\\pyplot.py:446\u001b[0m, in \u001b[0;36mshow\u001b[1;34m(*args, **kwargs)\u001b[0m\n\u001b[0;32m    402\u001b[0m \u001b[38;5;250m\u001b[39m\u001b[38;5;124;03m\"\"\"\u001b[39;00m\n\u001b[0;32m    403\u001b[0m \u001b[38;5;124;03mDisplay all open figures.\u001b[39;00m\n\u001b[0;32m    404\u001b[0m \n\u001b[1;32m   (...)\u001b[0m\n\u001b[0;32m    443\u001b[0m \u001b[38;5;124;03mexplicitly there.\u001b[39;00m\n\u001b[0;32m    444\u001b[0m \u001b[38;5;124;03m\"\"\"\u001b[39;00m\n\u001b[0;32m    445\u001b[0m _warn_if_gui_out_of_main_thread()\n\u001b[1;32m--> 446\u001b[0m \u001b[38;5;28;01mreturn\u001b[39;00m _get_backend_mod()\u001b[38;5;241m.\u001b[39mshow(\u001b[38;5;241m*\u001b[39margs, \u001b[38;5;241m*\u001b[39m\u001b[38;5;241m*\u001b[39mkwargs)\n",
      "File \u001b[1;32m~\\AppData\\Local\\Programs\\Python\\Python310\\lib\\site-packages\\matplotlib_inline\\backend_inline.py:98\u001b[0m, in \u001b[0;36mshow\u001b[1;34m(close, block)\u001b[0m\n\u001b[0;32m     95\u001b[0m show\u001b[38;5;241m.\u001b[39m_to_draw \u001b[38;5;241m=\u001b[39m []\n\u001b[0;32m     96\u001b[0m \u001b[38;5;66;03m# only call close('all') if any to close\u001b[39;00m\n\u001b[0;32m     97\u001b[0m \u001b[38;5;66;03m# close triggers gc.collect, which can be slow\u001b[39;00m\n\u001b[1;32m---> 98\u001b[0m \u001b[38;5;28;01mif\u001b[39;00m close \u001b[38;5;129;01mand\u001b[39;00m Gcf\u001b[38;5;241m.\u001b[39mget_all_fig_managers():\n\u001b[0;32m     99\u001b[0m     matplotlib\u001b[38;5;241m.\u001b[39mpyplot\u001b[38;5;241m.\u001b[39mclose(\u001b[38;5;124m'\u001b[39m\u001b[38;5;124mall\u001b[39m\u001b[38;5;124m'\u001b[39m)\n",
      "\u001b[1;31mValueError\u001b[0m: The truth value of an array with more than one element is ambiguous. Use a.any() or a.all()"
     ]
    }
   ],
   "source": [
    "plt.show(X_custom"
   ]
  },
  {
   "cell_type": "code",
   "execution_count": null,
   "metadata": {},
   "outputs": [],
   "source": []
  },
  {
   "cell_type": "markdown",
   "metadata": {
    "id": "hEJkcaxJ3wRg"
   },
   "source": [
    "<h1>Changing up the model</h1>\n",
    "Not bad.  Let's delve into some more applied hyperparameters for our network.\n",
    "Neural networks take\n",
    "<h3>Optimizer</h3>\n",
    "\n",
    "<h3>Loss function</h3>\n"
   ]
  },
  {
   "cell_type": "code",
   "execution_count": null,
   "metadata": {},
   "outputs": [],
   "source": [
    "print(gray)"
   ]
  },
  {
   "cell_type": "code",
   "execution_count": null,
   "metadata": {},
   "outputs": [],
   "source": []
  }
 ],
 "metadata": {
  "colab": {
   "provenance": []
  },
  "kernelspec": {
   "display_name": "Python 3 (ipykernel)",
   "language": "python",
   "name": "python3"
  },
  "language_info": {
   "codemirror_mode": {
    "name": "ipython",
    "version": 3
   },
   "file_extension": ".py",
   "mimetype": "text/x-python",
   "name": "python",
   "nbconvert_exporter": "python",
   "pygments_lexer": "ipython3",
   "version": "3.10.6"
  }
 },
 "nbformat": 4,
 "nbformat_minor": 1
}
